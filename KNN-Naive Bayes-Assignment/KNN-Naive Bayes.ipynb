{
 "cells": [
  {
   "attachments": {},
   "cell_type": "markdown",
   "id": "f9a86296",
   "metadata": {},
   "source": [
    "# DTSC 710 Homework 1: KNN & NB\n",
    "\n",
    "Selina Narain\n",
    "\n",
    "ID 1261565"
   ]
  },
  {
   "cell_type": "code",
   "execution_count": 1368,
   "id": "28368fa5",
   "metadata": {},
   "outputs": [],
   "source": [
    "# Importing necessary libraries\n",
    "import pandas as pd\n",
    "import numpy as np\n",
    "import matplotlib.pyplot as plt\n",
    "from sklearn.model_selection import train_test_split, cross_val_score, LeaveOneOut\n",
    "from sklearn.metrics import accuracy_score, confusion_matrix\n",
    "from sklearn.neighbors import KNeighborsClassifier\n",
    "from sklearn.naive_bayes import GaussianNB, MultinomialNB, BernoulliNB"
   ]
  },
  {
   "cell_type": "code",
   "execution_count": 1369,
   "id": "28267bb9",
   "metadata": {},
   "outputs": [
    {
     "data": {
      "text/html": [
       "<div>\n",
       "<style scoped>\n",
       "    .dataframe tbody tr th:only-of-type {\n",
       "        vertical-align: middle;\n",
       "    }\n",
       "\n",
       "    .dataframe tbody tr th {\n",
       "        vertical-align: top;\n",
       "    }\n",
       "\n",
       "    .dataframe thead th {\n",
       "        text-align: right;\n",
       "    }\n",
       "</style>\n",
       "<table border=\"1\" class=\"dataframe\">\n",
       "  <thead>\n",
       "    <tr style=\"text-align: right;\">\n",
       "      <th></th>\n",
       "      <th>Pregnancies</th>\n",
       "      <th>Glucose</th>\n",
       "      <th>BloodPressure</th>\n",
       "      <th>SkinThickness</th>\n",
       "      <th>Insulin</th>\n",
       "      <th>BMI</th>\n",
       "      <th>DiabetesPedigreeFunction</th>\n",
       "      <th>Age</th>\n",
       "      <th>Outcome</th>\n",
       "    </tr>\n",
       "  </thead>\n",
       "  <tbody>\n",
       "    <tr>\n",
       "      <th>0</th>\n",
       "      <td>6</td>\n",
       "      <td>148</td>\n",
       "      <td>72</td>\n",
       "      <td>35</td>\n",
       "      <td>0</td>\n",
       "      <td>33.6</td>\n",
       "      <td>0.627</td>\n",
       "      <td>50</td>\n",
       "      <td>1</td>\n",
       "    </tr>\n",
       "    <tr>\n",
       "      <th>1</th>\n",
       "      <td>1</td>\n",
       "      <td>85</td>\n",
       "      <td>66</td>\n",
       "      <td>29</td>\n",
       "      <td>0</td>\n",
       "      <td>26.6</td>\n",
       "      <td>0.351</td>\n",
       "      <td>31</td>\n",
       "      <td>0</td>\n",
       "    </tr>\n",
       "    <tr>\n",
       "      <th>2</th>\n",
       "      <td>8</td>\n",
       "      <td>183</td>\n",
       "      <td>64</td>\n",
       "      <td>0</td>\n",
       "      <td>0</td>\n",
       "      <td>23.3</td>\n",
       "      <td>0.672</td>\n",
       "      <td>32</td>\n",
       "      <td>1</td>\n",
       "    </tr>\n",
       "    <tr>\n",
       "      <th>3</th>\n",
       "      <td>1</td>\n",
       "      <td>89</td>\n",
       "      <td>66</td>\n",
       "      <td>23</td>\n",
       "      <td>94</td>\n",
       "      <td>28.1</td>\n",
       "      <td>0.167</td>\n",
       "      <td>21</td>\n",
       "      <td>0</td>\n",
       "    </tr>\n",
       "    <tr>\n",
       "      <th>4</th>\n",
       "      <td>0</td>\n",
       "      <td>137</td>\n",
       "      <td>40</td>\n",
       "      <td>35</td>\n",
       "      <td>168</td>\n",
       "      <td>43.1</td>\n",
       "      <td>2.288</td>\n",
       "      <td>33</td>\n",
       "      <td>1</td>\n",
       "    </tr>\n",
       "    <tr>\n",
       "      <th>...</th>\n",
       "      <td>...</td>\n",
       "      <td>...</td>\n",
       "      <td>...</td>\n",
       "      <td>...</td>\n",
       "      <td>...</td>\n",
       "      <td>...</td>\n",
       "      <td>...</td>\n",
       "      <td>...</td>\n",
       "      <td>...</td>\n",
       "    </tr>\n",
       "    <tr>\n",
       "      <th>763</th>\n",
       "      <td>10</td>\n",
       "      <td>101</td>\n",
       "      <td>76</td>\n",
       "      <td>48</td>\n",
       "      <td>180</td>\n",
       "      <td>32.9</td>\n",
       "      <td>0.171</td>\n",
       "      <td>63</td>\n",
       "      <td>0</td>\n",
       "    </tr>\n",
       "    <tr>\n",
       "      <th>764</th>\n",
       "      <td>2</td>\n",
       "      <td>122</td>\n",
       "      <td>70</td>\n",
       "      <td>27</td>\n",
       "      <td>0</td>\n",
       "      <td>36.8</td>\n",
       "      <td>0.340</td>\n",
       "      <td>27</td>\n",
       "      <td>0</td>\n",
       "    </tr>\n",
       "    <tr>\n",
       "      <th>765</th>\n",
       "      <td>5</td>\n",
       "      <td>121</td>\n",
       "      <td>72</td>\n",
       "      <td>23</td>\n",
       "      <td>112</td>\n",
       "      <td>26.2</td>\n",
       "      <td>0.245</td>\n",
       "      <td>30</td>\n",
       "      <td>0</td>\n",
       "    </tr>\n",
       "    <tr>\n",
       "      <th>766</th>\n",
       "      <td>1</td>\n",
       "      <td>126</td>\n",
       "      <td>60</td>\n",
       "      <td>0</td>\n",
       "      <td>0</td>\n",
       "      <td>30.1</td>\n",
       "      <td>0.349</td>\n",
       "      <td>47</td>\n",
       "      <td>1</td>\n",
       "    </tr>\n",
       "    <tr>\n",
       "      <th>767</th>\n",
       "      <td>1</td>\n",
       "      <td>93</td>\n",
       "      <td>70</td>\n",
       "      <td>31</td>\n",
       "      <td>0</td>\n",
       "      <td>30.4</td>\n",
       "      <td>0.315</td>\n",
       "      <td>23</td>\n",
       "      <td>0</td>\n",
       "    </tr>\n",
       "  </tbody>\n",
       "</table>\n",
       "<p>768 rows × 9 columns</p>\n",
       "</div>"
      ],
      "text/plain": [
       "     Pregnancies  Glucose  BloodPressure  SkinThickness  Insulin   BMI  \\\n",
       "0              6      148             72             35        0  33.6   \n",
       "1              1       85             66             29        0  26.6   \n",
       "2              8      183             64              0        0  23.3   \n",
       "3              1       89             66             23       94  28.1   \n",
       "4              0      137             40             35      168  43.1   \n",
       "..           ...      ...            ...            ...      ...   ...   \n",
       "763           10      101             76             48      180  32.9   \n",
       "764            2      122             70             27        0  36.8   \n",
       "765            5      121             72             23      112  26.2   \n",
       "766            1      126             60              0        0  30.1   \n",
       "767            1       93             70             31        0  30.4   \n",
       "\n",
       "     DiabetesPedigreeFunction  Age  Outcome  \n",
       "0                       0.627   50        1  \n",
       "1                       0.351   31        0  \n",
       "2                       0.672   32        1  \n",
       "3                       0.167   21        0  \n",
       "4                       2.288   33        1  \n",
       "..                        ...  ...      ...  \n",
       "763                     0.171   63        0  \n",
       "764                     0.340   27        0  \n",
       "765                     0.245   30        0  \n",
       "766                     0.349   47        1  \n",
       "767                     0.315   23        0  \n",
       "\n",
       "[768 rows x 9 columns]"
      ]
     },
     "execution_count": 1369,
     "metadata": {},
     "output_type": "execute_result"
    }
   ],
   "source": [
    "# Reading diabetes csv file and initializing into dataframe\n",
    "df = pd.read_csv('/Users/selinanarain/Desktop/DTSC710/HW1/diabetes.csv')\n",
    "df"
   ]
  },
  {
   "cell_type": "code",
   "execution_count": 1370,
   "id": "bb84110a",
   "metadata": {},
   "outputs": [
    {
     "data": {
      "text/html": [
       "<div>\n",
       "<style scoped>\n",
       "    .dataframe tbody tr th:only-of-type {\n",
       "        vertical-align: middle;\n",
       "    }\n",
       "\n",
       "    .dataframe tbody tr th {\n",
       "        vertical-align: top;\n",
       "    }\n",
       "\n",
       "    .dataframe thead th {\n",
       "        text-align: right;\n",
       "    }\n",
       "</style>\n",
       "<table border=\"1\" class=\"dataframe\">\n",
       "  <thead>\n",
       "    <tr style=\"text-align: right;\">\n",
       "      <th></th>\n",
       "      <th>Pregnancies</th>\n",
       "      <th>Glucose</th>\n",
       "      <th>BloodPressure</th>\n",
       "      <th>SkinThickness</th>\n",
       "      <th>Insulin</th>\n",
       "      <th>BMI</th>\n",
       "      <th>DiabetesPedigreeFunction</th>\n",
       "      <th>Age</th>\n",
       "      <th>Outcome</th>\n",
       "    </tr>\n",
       "  </thead>\n",
       "  <tbody>\n",
       "    <tr>\n",
       "      <th>count</th>\n",
       "      <td>768.000000</td>\n",
       "      <td>768.000000</td>\n",
       "      <td>768.000000</td>\n",
       "      <td>768.000000</td>\n",
       "      <td>768.000000</td>\n",
       "      <td>768.000000</td>\n",
       "      <td>768.000000</td>\n",
       "      <td>768.000000</td>\n",
       "      <td>768.000000</td>\n",
       "    </tr>\n",
       "    <tr>\n",
       "      <th>mean</th>\n",
       "      <td>3.845052</td>\n",
       "      <td>120.894531</td>\n",
       "      <td>69.105469</td>\n",
       "      <td>20.536458</td>\n",
       "      <td>79.799479</td>\n",
       "      <td>31.992578</td>\n",
       "      <td>0.471876</td>\n",
       "      <td>33.240885</td>\n",
       "      <td>0.348958</td>\n",
       "    </tr>\n",
       "    <tr>\n",
       "      <th>std</th>\n",
       "      <td>3.369578</td>\n",
       "      <td>31.972618</td>\n",
       "      <td>19.355807</td>\n",
       "      <td>15.952218</td>\n",
       "      <td>115.244002</td>\n",
       "      <td>7.884160</td>\n",
       "      <td>0.331329</td>\n",
       "      <td>11.760232</td>\n",
       "      <td>0.476951</td>\n",
       "    </tr>\n",
       "    <tr>\n",
       "      <th>min</th>\n",
       "      <td>0.000000</td>\n",
       "      <td>0.000000</td>\n",
       "      <td>0.000000</td>\n",
       "      <td>0.000000</td>\n",
       "      <td>0.000000</td>\n",
       "      <td>0.000000</td>\n",
       "      <td>0.078000</td>\n",
       "      <td>21.000000</td>\n",
       "      <td>0.000000</td>\n",
       "    </tr>\n",
       "    <tr>\n",
       "      <th>25%</th>\n",
       "      <td>1.000000</td>\n",
       "      <td>99.000000</td>\n",
       "      <td>62.000000</td>\n",
       "      <td>0.000000</td>\n",
       "      <td>0.000000</td>\n",
       "      <td>27.300000</td>\n",
       "      <td>0.243750</td>\n",
       "      <td>24.000000</td>\n",
       "      <td>0.000000</td>\n",
       "    </tr>\n",
       "    <tr>\n",
       "      <th>50%</th>\n",
       "      <td>3.000000</td>\n",
       "      <td>117.000000</td>\n",
       "      <td>72.000000</td>\n",
       "      <td>23.000000</td>\n",
       "      <td>30.500000</td>\n",
       "      <td>32.000000</td>\n",
       "      <td>0.372500</td>\n",
       "      <td>29.000000</td>\n",
       "      <td>0.000000</td>\n",
       "    </tr>\n",
       "    <tr>\n",
       "      <th>75%</th>\n",
       "      <td>6.000000</td>\n",
       "      <td>140.250000</td>\n",
       "      <td>80.000000</td>\n",
       "      <td>32.000000</td>\n",
       "      <td>127.250000</td>\n",
       "      <td>36.600000</td>\n",
       "      <td>0.626250</td>\n",
       "      <td>41.000000</td>\n",
       "      <td>1.000000</td>\n",
       "    </tr>\n",
       "    <tr>\n",
       "      <th>max</th>\n",
       "      <td>17.000000</td>\n",
       "      <td>199.000000</td>\n",
       "      <td>122.000000</td>\n",
       "      <td>99.000000</td>\n",
       "      <td>846.000000</td>\n",
       "      <td>67.100000</td>\n",
       "      <td>2.420000</td>\n",
       "      <td>81.000000</td>\n",
       "      <td>1.000000</td>\n",
       "    </tr>\n",
       "  </tbody>\n",
       "</table>\n",
       "</div>"
      ],
      "text/plain": [
       "       Pregnancies     Glucose  BloodPressure  SkinThickness     Insulin  \\\n",
       "count   768.000000  768.000000     768.000000     768.000000  768.000000   \n",
       "mean      3.845052  120.894531      69.105469      20.536458   79.799479   \n",
       "std       3.369578   31.972618      19.355807      15.952218  115.244002   \n",
       "min       0.000000    0.000000       0.000000       0.000000    0.000000   \n",
       "25%       1.000000   99.000000      62.000000       0.000000    0.000000   \n",
       "50%       3.000000  117.000000      72.000000      23.000000   30.500000   \n",
       "75%       6.000000  140.250000      80.000000      32.000000  127.250000   \n",
       "max      17.000000  199.000000     122.000000      99.000000  846.000000   \n",
       "\n",
       "              BMI  DiabetesPedigreeFunction         Age     Outcome  \n",
       "count  768.000000                768.000000  768.000000  768.000000  \n",
       "mean    31.992578                  0.471876   33.240885    0.348958  \n",
       "std      7.884160                  0.331329   11.760232    0.476951  \n",
       "min      0.000000                  0.078000   21.000000    0.000000  \n",
       "25%     27.300000                  0.243750   24.000000    0.000000  \n",
       "50%     32.000000                  0.372500   29.000000    0.000000  \n",
       "75%     36.600000                  0.626250   41.000000    1.000000  \n",
       "max     67.100000                  2.420000   81.000000    1.000000  "
      ]
     },
     "execution_count": 1370,
     "metadata": {},
     "output_type": "execute_result"
    }
   ],
   "source": [
    "# Viewing overall statistics for dataset\n",
    "df.describe()"
   ]
  },
  {
   "attachments": {},
   "cell_type": "markdown",
   "id": "eb03cfef",
   "metadata": {},
   "source": [
    "## Part 1 - Build a KNN classifier to classify the dataset."
   ]
  },
  {
   "attachments": {},
   "cell_type": "markdown",
   "id": "973fce95",
   "metadata": {},
   "source": [
    "● Write standard scaler from scratch - do not scale/z-score features using off-the-shelf\n",
    "scaler from sklearn\n",
    "\n",
    "Using the standardization formula: z = (x-μ)/σ"
   ]
  },
  {
   "cell_type": "code",
   "execution_count": 1371,
   "id": "8109a3d1",
   "metadata": {},
   "outputs": [],
   "source": [
    "# Apply the standardization formula for all columns in dataset\n",
    "def standardScaler(dataFrame):\n",
    "    # Making copy of dataframe\n",
    "    scaled_data = dataFrame.copy()\n",
    "    # Iterating through columns\n",
    "    for col in dataFrame.columns:\n",
    "        if col == 'Outcome':\n",
    "            return scaled_data\n",
    "        # Calculating standardization formula for all columns\n",
    "        scaled_data[col] = (scaled_data[col] - scaled_data[col].mean()) / scaled_data[col].std()"
   ]
  },
  {
   "attachments": {},
   "cell_type": "markdown",
   "id": "76d31b4c",
   "metadata": {},
   "source": [
    "● Scale data using standard scaler"
   ]
  },
  {
   "cell_type": "code",
   "execution_count": 1372,
   "id": "626e2eb6",
   "metadata": {},
   "outputs": [],
   "source": [
    "# Scale the dataframe and initialize into variable scaled_data\n",
    "scaled_data = standardScaler(df)"
   ]
  },
  {
   "cell_type": "code",
   "execution_count": 1373,
   "id": "c2d85f2c",
   "metadata": {},
   "outputs": [
    {
     "data": {
      "text/html": [
       "<div>\n",
       "<style scoped>\n",
       "    .dataframe tbody tr th:only-of-type {\n",
       "        vertical-align: middle;\n",
       "    }\n",
       "\n",
       "    .dataframe tbody tr th {\n",
       "        vertical-align: top;\n",
       "    }\n",
       "\n",
       "    .dataframe thead th {\n",
       "        text-align: right;\n",
       "    }\n",
       "</style>\n",
       "<table border=\"1\" class=\"dataframe\">\n",
       "  <thead>\n",
       "    <tr style=\"text-align: right;\">\n",
       "      <th></th>\n",
       "      <th>Pregnancies</th>\n",
       "      <th>Glucose</th>\n",
       "      <th>BloodPressure</th>\n",
       "      <th>SkinThickness</th>\n",
       "      <th>Insulin</th>\n",
       "      <th>BMI</th>\n",
       "      <th>DiabetesPedigreeFunction</th>\n",
       "      <th>Age</th>\n",
       "      <th>Outcome</th>\n",
       "    </tr>\n",
       "  </thead>\n",
       "  <tbody>\n",
       "    <tr>\n",
       "      <th>0</th>\n",
       "      <td>0.639530</td>\n",
       "      <td>0.847771</td>\n",
       "      <td>0.149543</td>\n",
       "      <td>0.906679</td>\n",
       "      <td>-0.692439</td>\n",
       "      <td>0.203880</td>\n",
       "      <td>0.468187</td>\n",
       "      <td>1.425067</td>\n",
       "      <td>1</td>\n",
       "    </tr>\n",
       "    <tr>\n",
       "      <th>1</th>\n",
       "      <td>-0.844335</td>\n",
       "      <td>-1.122665</td>\n",
       "      <td>-0.160441</td>\n",
       "      <td>0.530556</td>\n",
       "      <td>-0.692439</td>\n",
       "      <td>-0.683976</td>\n",
       "      <td>-0.364823</td>\n",
       "      <td>-0.190548</td>\n",
       "      <td>0</td>\n",
       "    </tr>\n",
       "    <tr>\n",
       "      <th>2</th>\n",
       "      <td>1.233077</td>\n",
       "      <td>1.942458</td>\n",
       "      <td>-0.263769</td>\n",
       "      <td>-1.287373</td>\n",
       "      <td>-0.692439</td>\n",
       "      <td>-1.102537</td>\n",
       "      <td>0.604004</td>\n",
       "      <td>-0.105515</td>\n",
       "      <td>1</td>\n",
       "    </tr>\n",
       "    <tr>\n",
       "      <th>3</th>\n",
       "      <td>-0.844335</td>\n",
       "      <td>-0.997558</td>\n",
       "      <td>-0.160441</td>\n",
       "      <td>0.154433</td>\n",
       "      <td>0.123221</td>\n",
       "      <td>-0.493721</td>\n",
       "      <td>-0.920163</td>\n",
       "      <td>-1.040871</td>\n",
       "      <td>0</td>\n",
       "    </tr>\n",
       "    <tr>\n",
       "      <th>4</th>\n",
       "      <td>-1.141108</td>\n",
       "      <td>0.503727</td>\n",
       "      <td>-1.503707</td>\n",
       "      <td>0.906679</td>\n",
       "      <td>0.765337</td>\n",
       "      <td>1.408828</td>\n",
       "      <td>5.481337</td>\n",
       "      <td>-0.020483</td>\n",
       "      <td>1</td>\n",
       "    </tr>\n",
       "    <tr>\n",
       "      <th>...</th>\n",
       "      <td>...</td>\n",
       "      <td>...</td>\n",
       "      <td>...</td>\n",
       "      <td>...</td>\n",
       "      <td>...</td>\n",
       "      <td>...</td>\n",
       "      <td>...</td>\n",
       "      <td>...</td>\n",
       "      <td>...</td>\n",
       "    </tr>\n",
       "    <tr>\n",
       "      <th>763</th>\n",
       "      <td>1.826623</td>\n",
       "      <td>-0.622237</td>\n",
       "      <td>0.356200</td>\n",
       "      <td>1.721613</td>\n",
       "      <td>0.869464</td>\n",
       "      <td>0.115094</td>\n",
       "      <td>-0.908090</td>\n",
       "      <td>2.530487</td>\n",
       "      <td>0</td>\n",
       "    </tr>\n",
       "    <tr>\n",
       "      <th>764</th>\n",
       "      <td>-0.547562</td>\n",
       "      <td>0.034575</td>\n",
       "      <td>0.046215</td>\n",
       "      <td>0.405181</td>\n",
       "      <td>-0.692439</td>\n",
       "      <td>0.609757</td>\n",
       "      <td>-0.398023</td>\n",
       "      <td>-0.530677</td>\n",
       "      <td>0</td>\n",
       "    </tr>\n",
       "    <tr>\n",
       "      <th>765</th>\n",
       "      <td>0.342757</td>\n",
       "      <td>0.003299</td>\n",
       "      <td>0.149543</td>\n",
       "      <td>0.154433</td>\n",
       "      <td>0.279412</td>\n",
       "      <td>-0.734711</td>\n",
       "      <td>-0.684747</td>\n",
       "      <td>-0.275580</td>\n",
       "      <td>0</td>\n",
       "    </tr>\n",
       "    <tr>\n",
       "      <th>766</th>\n",
       "      <td>-0.844335</td>\n",
       "      <td>0.159683</td>\n",
       "      <td>-0.470426</td>\n",
       "      <td>-1.287373</td>\n",
       "      <td>-0.692439</td>\n",
       "      <td>-0.240048</td>\n",
       "      <td>-0.370859</td>\n",
       "      <td>1.169970</td>\n",
       "      <td>1</td>\n",
       "    </tr>\n",
       "    <tr>\n",
       "      <th>767</th>\n",
       "      <td>-0.844335</td>\n",
       "      <td>-0.872451</td>\n",
       "      <td>0.046215</td>\n",
       "      <td>0.655930</td>\n",
       "      <td>-0.692439</td>\n",
       "      <td>-0.201997</td>\n",
       "      <td>-0.473476</td>\n",
       "      <td>-0.870806</td>\n",
       "      <td>0</td>\n",
       "    </tr>\n",
       "  </tbody>\n",
       "</table>\n",
       "<p>768 rows × 9 columns</p>\n",
       "</div>"
      ],
      "text/plain": [
       "     Pregnancies   Glucose  BloodPressure  SkinThickness   Insulin       BMI  \\\n",
       "0       0.639530  0.847771       0.149543       0.906679 -0.692439  0.203880   \n",
       "1      -0.844335 -1.122665      -0.160441       0.530556 -0.692439 -0.683976   \n",
       "2       1.233077  1.942458      -0.263769      -1.287373 -0.692439 -1.102537   \n",
       "3      -0.844335 -0.997558      -0.160441       0.154433  0.123221 -0.493721   \n",
       "4      -1.141108  0.503727      -1.503707       0.906679  0.765337  1.408828   \n",
       "..           ...       ...            ...            ...       ...       ...   \n",
       "763     1.826623 -0.622237       0.356200       1.721613  0.869464  0.115094   \n",
       "764    -0.547562  0.034575       0.046215       0.405181 -0.692439  0.609757   \n",
       "765     0.342757  0.003299       0.149543       0.154433  0.279412 -0.734711   \n",
       "766    -0.844335  0.159683      -0.470426      -1.287373 -0.692439 -0.240048   \n",
       "767    -0.844335 -0.872451       0.046215       0.655930 -0.692439 -0.201997   \n",
       "\n",
       "     DiabetesPedigreeFunction       Age  Outcome  \n",
       "0                    0.468187  1.425067        1  \n",
       "1                   -0.364823 -0.190548        0  \n",
       "2                    0.604004 -0.105515        1  \n",
       "3                   -0.920163 -1.040871        0  \n",
       "4                    5.481337 -0.020483        1  \n",
       "..                        ...       ...      ...  \n",
       "763                 -0.908090  2.530487        0  \n",
       "764                 -0.398023 -0.530677        0  \n",
       "765                 -0.684747 -0.275580        0  \n",
       "766                 -0.370859  1.169970        1  \n",
       "767                 -0.473476 -0.870806        0  \n",
       "\n",
       "[768 rows x 9 columns]"
      ]
     },
     "execution_count": 1373,
     "metadata": {},
     "output_type": "execute_result"
    }
   ],
   "source": [
    "# Viewing scaled_data output\n",
    "scaled_data"
   ]
  },
  {
   "attachments": {},
   "cell_type": "markdown",
   "id": "ccf1d0fa",
   "metadata": {},
   "source": [
    "● Split the dataset into training and testing"
   ]
  },
  {
   "cell_type": "code",
   "execution_count": 1374,
   "id": "e372a272",
   "metadata": {},
   "outputs": [
    {
     "name": "stdout",
     "output_type": "stream",
     "text": [
      "(614, 8) (154, 8) (614,) (154,)\n"
     ]
    }
   ],
   "source": [
    "X = scaled_data.iloc[:, :-1].values\n",
    "y = scaled_data.iloc[:, -1].values\n",
    "\n",
    "# Split data into train test sets\n",
    "X_train, X_test, y_train, y_test = train_test_split(X, y, test_size=0.2, random_state=42)\n",
    "print(X_train.shape, X_test.shape, y_train.shape, y_test.shape)"
   ]
  },
  {
   "attachments": {},
   "cell_type": "markdown",
   "id": "965daf79",
   "metadata": {},
   "source": [
    "● Determine the K value, and create a visualization of the accuracy. Report the best K value"
   ]
  },
  {
   "cell_type": "code",
   "execution_count": 1375,
   "id": "41c6944c",
   "metadata": {},
   "outputs": [
    {
     "data": {
      "image/png": "[encoded data removed]",
      "text/plain": [
       "<Figure size 640x480 with 1 Axes>"
      ]
     },
     "metadata": {},
     "output_type": "display_data"
    },
    {
     "name": "stdout",
     "output_type": "stream",
     "text": [
      "Best K value: 18\n"
     ]
    }
   ],
   "source": [
    "# Determining K value\n",
    "k_value = list(range(1,35))\n",
    "accuracies = []\n",
    "\n",
    "for k in k_value:\n",
    "    knn = KNeighborsClassifier(n_neighbors=k)\n",
    "    knn.fit(X_train, y_train)\n",
    "    y_pred = knn.predict(X_test)\n",
    "    acc = accuracy_score(y_test, y_pred)\n",
    "    accuracies.append(acc)\n",
    "\n",
    "# Plotting visualization of accuracy\n",
    "plt.plot(k_value, accuracies)\n",
    "plt.title(\"Accuary of KNN Classifier\")\n",
    "plt.xlabel(\"K\")\n",
    "plt.ylabel(\"Accuracy\")\n",
    "plt.show()\n",
    "\n",
    "# Calculate best K value based on accuracies\n",
    "best_kVal = k_value[np.argmax(accuracies)]\n",
    "print(\"Best K value:\", best_kVal)\n"
   ]
  },
  {
   "attachments": {},
   "cell_type": "markdown",
   "id": "3b0ff85c",
   "metadata": {},
   "source": [
    "● Run 5 fold cross validations - report mean and standard deviation"
   ]
  },
  {
   "cell_type": "code",
   "execution_count": 1376,
   "id": "81dad895",
   "metadata": {},
   "outputs": [
    {
     "name": "stdout",
     "output_type": "stream",
     "text": [
      "Cross-validation mean: 0.8867498514557338\n",
      "Cross-validation standard deviation: 0.011777773949460184\n"
     ]
    }
   ],
   "source": [
    "# Implement KNN classifier on best K value\n",
    "knn = KNeighborsClassifier(n_neighbors=best_kVal)\n",
    "cv_scores = cross_val_score(knn, scaled_data, y, cv=5)\n",
    "\n",
    "# Print mean and standard deviation of cross validation\n",
    "print(\"Cross-validation mean:\", cv_scores.mean())\n",
    "print(\"Cross-validation standard deviation:\", cv_scores.std())"
   ]
  },
  {
   "attachments": {},
   "cell_type": "markdown",
   "id": "8083177a",
   "metadata": {},
   "source": [
    "● Evaluate using confusion matrix"
   ]
  },
  {
   "cell_type": "code",
   "execution_count": 1377,
   "id": "d03e51ef",
   "metadata": {},
   "outputs": [
    {
     "name": "stdout",
     "output_type": "stream",
     "text": [
      "Confusion matrix:\n",
      " [[89 10]\n",
      " [26 29]]\n",
      "Accuracy Score:\n",
      " 0.7662337662337663\n"
     ]
    }
   ],
   "source": [
    "knn.fit(X_train, y_train)\n",
    "y_pred = knn.predict(X_test)\n",
    "\n",
    "# Print generated confusion matrix and accuracy scores\n",
    "print(\"Confusion matrix:\\n\", confusion_matrix(y_test, y_pred))\n",
    "print(\"Accuracy Score:\\n\", accuracy_score(y_test, y_pred))"
   ]
  },
  {
   "attachments": {},
   "cell_type": "markdown",
   "id": "50f6deb2",
   "metadata": {},
   "source": [
    "● Use MARKDOWN cell to explain the accuracy of your model\n",
    "\n",
    "Based on the best K value determined, the accuracy of the KNN model is calculated to be about 76%."
   ]
  },
  {
   "attachments": {},
   "cell_type": "markdown",
   "id": "d374d5fe",
   "metadata": {},
   "source": [
    "## Part 2 - Build a Naive Bayes classifier to classify the dataset\n",
    "\n",
    "● Train three classifiers using GaussianNB, MultinomialNB, and BernoulliNB\n",
    "\n",
    "● Split dataset into training and testing"
   ]
  },
  {
   "cell_type": "code",
   "execution_count": 1378,
   "id": "0f596c3b",
   "metadata": {},
   "outputs": [
    {
     "name": "stdout",
     "output_type": "stream",
     "text": [
      "(491, 8) (154, 8) (491,) (154,)\n"
     ]
    }
   ],
   "source": [
    "X = df.iloc[:, :-1].values\n",
    "y = df.iloc[:, -1].values\n",
    "\n",
    "# Split the data into training, testing, validation sets\n",
    "X_train, X_test, y_train, y_test = train_test_split(X, y, test_size=0.2, random_state=42)\n",
    "X_train, X_val, y_train, y_val = train_test_split(X_train, y_train, test_size=0.2, random_state=42)\n",
    "print(X_train.shape, X_test.shape, y_train.shape, y_test.shape)"
   ]
  },
  {
   "cell_type": "code",
   "execution_count": 1379,
   "id": "5d1b0669",
   "metadata": {},
   "outputs": [],
   "source": [
    "# Fitting NB models with training data\n",
    "gNB = GaussianNB().fit(X_train, y_train)\n",
    "mNB = MultinomialNB().fit(X_train, y_train)\n",
    "bNB = BernoulliNB().fit(X_train, y_train)\n"
   ]
  },
  {
   "attachments": {},
   "cell_type": "markdown",
   "id": "d4353d7d",
   "metadata": {},
   "source": [
    "● Run 5 fold cross validations with training set and validation set - report mean and standard deviation. Use test set (holdout set) for final testing."
   ]
  },
  {
   "cell_type": "code",
   "execution_count": 1380,
   "id": "6163bc9b",
   "metadata": {},
   "outputs": [
    {
     "name": "stdout",
     "output_type": "stream",
     "text": [
      "Gaussian Naive Bayes Mean = 0.7250257678829108 Standard Deviation = 0.028344738666736296\n",
      "Multinomial Naive Bayes Mean = 0.6048649762935477 Standard Deviation = 0.05351688320098867\n",
      "Bernoulli Naive Bayes Mean = 0.6395176252319109 Std. Dev. = 0.011960490880360782\n"
     ]
    }
   ],
   "source": [
    "# 5 fold cross validation \n",
    "gNB_scores = cross_val_score(gNB, X_train, y_train, cv=5)\n",
    "mNB_scores = cross_val_score(mNB, X_train, y_train, cv=5)\n",
    "bNB_scores = cross_val_score(bNB, X_train, y_train, cv=5)\n",
    "\n",
    "# Calculating means and standard deviations of NB models\n",
    "gNB_mean = np.mean(gNB_scores)\n",
    "gNB_std = np.std(gNB_scores)\n",
    "mNB_mean = np.mean(mNB_scores)\n",
    "mNB_std = np.std(mNB_scores)\n",
    "bNB_mean = np.mean(bNB_scores)\n",
    "bNB_std = np.std(bNB_scores)\n",
    "\n",
    "# Printing calculated means and standard deviations\n",
    "print(\"Gaussian Naive Bayes Mean =\", gNB_mean, \"Standard Deviation =\", gNB_std)\n",
    "print(\"Multinomial Naive Bayes Mean =\", mNB_mean, \"Standard Deviation =\", mNB_std)\n",
    "print(\"Bernoulli Naive Bayes Mean =\", bNB_mean, \"Std. Dev. =\", bNB_std)"
   ]
  },
  {
   "cell_type": "code",
   "execution_count": 1381,
   "id": "ac13fd1f",
   "metadata": {},
   "outputs": [
    {
     "name": "stdout",
     "output_type": "stream",
     "text": [
      "Best Naive Bayes Classifier:  GaussianNB\n",
      "Testing set accuracy: 0.7662337662337663\n"
     ]
    }
   ],
   "source": [
    "# Determining best classifier\n",
    "best_clf = gNB if gNB_mean > mNB_mean and gNB_mean > bNB_mean else \\\n",
    "mNB if mNB_mean > gNB_mean and mNB_mean > bNB_mean else bNB\n",
    "print(\"Best Naive Bayes Classifier: \", type(best_clf).__name__)\n",
    "\n",
    "# Train the best classifier on the training set\n",
    "best_clf.fit(X_train, y_train)\n",
    "\n",
    "# Make predictions on the testing set\n",
    "y_pred = best_clf.predict(X_test)\n",
    "\n",
    "# Calculate the accuracy of the best classifier on the testing set\n",
    "test_accuracy = accuracy_score(y_test, y_pred)\n",
    "print(\"Testing set accuracy:\", test_accuracy)"
   ]
  },
  {
   "attachments": {},
   "cell_type": "markdown",
   "id": "b1ec4d4e",
   "metadata": {},
   "source": [
    "● Use MARKDOWN cell to explain the accuracy of each. Determine which NB model fits best with the data we have.\n",
    "\n",
    "After comparing all the NB models, we can see the accuracy of the Gaussian Naive Bayes accuracy best fits the dataset that we have. As Gaussian is based on normally distributed features, it is also reflected to be best fit. On the other hand, Multinomial Naive Bayes and Bernoulli Naive Bayes did not result to have a higher accuracy score as opposed to the Gaussian model."
   ]
  },
  {
   "attachments": {},
   "cell_type": "markdown",
   "id": "1593fce7",
   "metadata": {},
   "source": [
    "## Part 3 - Retrain Using Leave-One-Out\n",
    "● For both classifiers, retrain using leave-one-out cross validation - report mean and standard deviation"
   ]
  },
  {
   "cell_type": "code",
   "execution_count": 1382,
   "id": "fb679e3a",
   "metadata": {},
   "outputs": [],
   "source": [
    "# Intialize leave one out cross validation method\n",
    "leaveOneOut = LeaveOneOut()"
   ]
  },
  {
   "cell_type": "code",
   "execution_count": 1383,
   "id": "d554006b",
   "metadata": {},
   "outputs": [
    {
     "name": "stdout",
     "output_type": "stream",
     "text": [
      "Leave-One-Out Knn Model\n",
      " Mean:  0.7142857142857143 Standard Deviation:  0.45175395145262565\n"
     ]
    }
   ],
   "source": [
    "# Implemented the KNN classifier for the best K value found previously\n",
    "knnModel = KNeighborsClassifier(best_kVal).fit(X_train, y_train)\n",
    "knn_cv_score = cross_val_score(knnModel, X_test, y_test, cv=leaveOneOut)\n",
    "\n",
    "# Calculate the KNN mean and standard deviation\n",
    "knnModelMean = knn_cv_score.mean()\n",
    "knnModelStd = knn_cv_score.std()\n",
    "\n",
    "# Print the KNN mean and standard deviation\n",
    "print(\"Leave-One-Out Knn Model\\n Mean: \", knnModelMean, \"Standard Deviation: \", knnModelStd)\n"
   ]
  },
  {
   "cell_type": "code",
   "execution_count": 1384,
   "id": "9d10e252",
   "metadata": {},
   "outputs": [
    {
     "name": "stdout",
     "output_type": "stream",
     "text": [
      "Confusion matrix\n",
      " [[85 14]\n",
      " [31 24]]\n",
      "Accuracy Score\n",
      " 0.7077922077922078\n"
     ]
    }
   ],
   "source": [
    "# KNN model prediction using the X testing data\n",
    "knnModelPred = knnModel.predict(X_test)\n",
    "\n",
    "# Printing the generated confusion matrix and accuracy score\n",
    "print(\"Confusion matrix\\n\", confusion_matrix(y_test, knnModelPred))\n",
    "print(\"Accuracy Score\\n\", accuracy_score(y_test, knnModelPred))\n"
   ]
  },
  {
   "cell_type": "code",
   "execution_count": 1385,
   "id": "1c80035e",
   "metadata": {},
   "outputs": [
    {
     "name": "stdout",
     "output_type": "stream",
     "text": [
      "Leave-One-Out Gaussian NB Model\n",
      " Mean:  0.7987012987012987 Standard Deviation:  0.40097073977306313\n"
     ]
    }
   ],
   "source": [
    "# Implemented the Gaussian NB classifier for the training data\n",
    "gaussianModel = GaussianNB().fit(X_train, y_train)\n",
    "gaussian_cv_score = cross_val_score(gaussianModel, X_test, y_test, cv = leaveOneOut)\n",
    "\n",
    "# Calculate the Gaussian mean and standard deviation\n",
    "gaussianModel_mean = gaussian_cv_score.mean()\n",
    "gaussianModel_std = gaussian_cv_score.std()\n",
    "\n",
    "# Print the Gaussian mean and standard deviation\n",
    "print(\"Leave-One-Out Gaussian NB Model\\n Mean: \", gaussianModel_mean, \"Standard Deviation: \", gaussianModel_std)"
   ]
  },
  {
   "cell_type": "code",
   "execution_count": 1386,
   "id": "1c79d468",
   "metadata": {},
   "outputs": [
    {
     "name": "stdout",
     "output_type": "stream",
     "text": [
      "Confusion matrix\n",
      " [[79 20]\n",
      " [16 39]]\n",
      "Accuracy Score\n",
      " 0.7662337662337663\n"
     ]
    }
   ],
   "source": [
    "# Gaussian model prediction using the X testing data\n",
    "gaussianModelPred = gaussianModel.predict(X_test)\n",
    "\n",
    "# Printing the generated confusion matric and accuracy score\n",
    "print(\"Confusion matrix\\n\", confusion_matrix(y_test, gaussianModelPred))\n",
    "print(\"Accuracy Score\\n\", accuracy_score(y_test, gaussianModelPred))"
   ]
  },
  {
   "attachments": {},
   "cell_type": "markdown",
   "id": "69aa343c",
   "metadata": {},
   "source": [
    "● Do you notice any accuracy improvements on our models during run time and testing time?\n",
    "\n",
    "When computing the accuracy score on the models, the run time and test time is not visibly different, most likely because this is a smaller dataset to be classified. Generally for larger datasets, the cross validation Leave One Out method would be more time consuming as opposed to the K-fold cross validation method."
   ]
  },
  {
   "attachments": {},
   "cell_type": "markdown",
   "id": "21517bcb",
   "metadata": {},
   "source": [
    "## Part 4 - KNN or NB?\n",
    "● Explain whether KNN or Naive Bayes works best with our data\n",
    "\n",
    "● Select model, and retrain your classifier with all the data available"
   ]
  },
  {
   "cell_type": "code",
   "execution_count": 1387,
   "id": "08c76c01",
   "metadata": {},
   "outputs": [
    {
     "name": "stdout",
     "output_type": "stream",
     "text": [
      "Confusion Matrix\n",
      " [[460  40]\n",
      " [127 141]]\n",
      "Accuracy Score\n",
      " 0.7825520833333334\n"
     ]
    }
   ],
   "source": [
    "# Retraining all data with KNN Model\n",
    "finalKnnModel = KNeighborsClassifier(best_kVal).fit(X, y)\n",
    "\n",
    "finalKnnPred = finalKnnModel.predict(X)\n",
    "\n",
    "# Printing the generated confusion matric and accuracy score\n",
    "print(\"Confusion Matrix\\n\", confusion_matrix(y, finalKnnPred))\n",
    "print(\"Accuracy Score\\n\", accuracy_score(y, finalKnnPred))\n"
   ]
  },
  {
   "cell_type": "code",
   "execution_count": 1388,
   "id": "f1781d72",
   "metadata": {},
   "outputs": [
    {
     "name": "stdout",
     "output_type": "stream",
     "text": [
      "Confusion Matrix\n",
      " [[442  58]\n",
      " [ 93 175]]\n",
      "Accuracy Score\n",
      " 0.8033854166666666\n"
     ]
    }
   ],
   "source": [
    "# Retraining all data with Gaussian NB Model\n",
    "finalGaussianModel = KNeighborsClassifier().fit(X, y)\n",
    "\n",
    "finalGaussianPred = finalGaussianModel.predict(X)\n",
    "\n",
    "# Printing the generated confusion matric and accuracy score\n",
    "print(\"Confusion Matrix\\n\", confusion_matrix(y, finalGaussianPred))\n",
    "print(\"Accuracy Score\\n\", accuracy_score(y, finalGaussianPred))"
   ]
  },
  {
   "attachments": {},
   "cell_type": "markdown",
   "id": "12194dad",
   "metadata": {},
   "source": [
    "Based on the calculations of the accuracy scores of both the KNN model and the Gaussian NB model, it seems that the Gaussian Model is the better classifier for this dataset. The Gaussian Model has an accuracy score of about 80% whereas the KNN model has a score of about 78%; about a 2% difference."
   ]
  }
 ],
 "metadata": {
  "kernelspec": {
   "display_name": "myenv",
   "language": "python",
   "name": "python3"
  },
  "language_info": {
   "codemirror_mode": {
    "name": "ipython",
    "version": 3
   },
   "file_extension": ".py",
   "mimetype": "text/x-python",
   "name": "python",
   "nbconvert_exporter": "python",
   "pygments_lexer": "ipython3",
   "version": "3.10.9"
  },
  "vscode": {
   "interpreter": {
    "hash": "5c7f6da85d55d57c8c2319546c4d1e8158e018eef216177f8437663261d8880d"
   }
  }
 },
 "nbformat": 4,
 "nbformat_minor": 5
}
