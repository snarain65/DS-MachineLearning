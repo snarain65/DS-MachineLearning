{
 "cells": [
  {
   "attachments": {},
   "cell_type": "markdown",
   "metadata": {},
   "source": [
    "# DTSC 710 Homework 4: Image Classification\n",
    "\n",
    "Selina Narain\n",
    "\n",
    "ID 1261565"
   ]
  },
  {
   "cell_type": "code",
   "execution_count": 1,
   "metadata": {},
   "outputs": [],
   "source": [
    "import pandas as pd\n",
    "import numpy as np\n",
    "import matplotlib.pyplot as plt\n",
    "from sklearn.ensemble import RandomForestClassifier\n",
    "from sklearn.svm import SVC\n",
    "from sklearn.model_selection import cross_val_score, KFold, GridSearchCV\n",
    "from sklearn.metrics import accuracy_score, classification_report, confusion_matrix"
   ]
  },
  {
   "cell_type": "code",
   "execution_count": 2,
   "metadata": {},
   "outputs": [
    {
     "name": "stderr",
     "output_type": "stream",
     "text": [
      "2023-04-28 18:57:38.610124: I tensorflow/core/platform/cpu_feature_guard.cc:193] This TensorFlow binary is optimized with oneAPI Deep Neural Network Library (oneDNN) to use the following CPU instructions in performance-critical operations:  SSE4.1 SSE4.2\n",
      "To enable them in other operations, rebuild TensorFlow with the appropriate compiler flags.\n"
     ]
    }
   ],
   "source": [
    "import keras\n",
    "from keras.datasets import mnist"
   ]
  },
  {
   "cell_type": "code",
   "execution_count": 3,
   "metadata": {},
   "outputs": [],
   "source": [
    "np.random.seed(2023)\n",
    "\n",
    "#we will load data into our x_train, y_train, x_test, y_test\n",
    "(x_train, y_train), (x_test, y_test) = mnist.load_data()"
   ]
  },
  {
   "attachments": {},
   "cell_type": "markdown",
   "metadata": {},
   "source": [
    "## DATA PREPROCESSING (60 POINTS):"
   ]
  },
  {
   "attachments": {},
   "cell_type": "markdown",
   "metadata": {},
   "source": [
    "● Generate the first 5 images of x_train using plt.imshow to see what we are working with"
   ]
  },
  {
   "cell_type": "code",
   "execution_count": 4,
   "metadata": {},
   "outputs": [
    {
     "data": {
      "image/png": "[encoded data removed]",
      "text/plain": [
       "<Figure size 1500x300 with 5 Axes>"
      ]
     },
     "metadata": {},
     "output_type": "display_data"
    }
   ],
   "source": [
    "fig, axes = plt.subplots(1, 5, figsize=(15, 3))\n",
    "\n",
    "# Iterate and plt first 5 images\n",
    "for i in range(5):\n",
    "    axes[i].imshow(x_train[i], cmap=plt.get_cmap('gray'))\n",
    "    #axes[i].axis('off')"
   ]
  },
  {
   "attachments": {},
   "cell_type": "markdown",
   "metadata": {},
   "source": [
    "● Flatten the inputs from each row being 28 by 28 (each row is a np.array of 28 vectors with 28 values in each vector) to 784"
   ]
  },
  {
   "attachments": {},
   "cell_type": "markdown",
   "metadata": {},
   "source": [
    "● Final output for x_train should be (60000,784), and y_train should be (60000,)"
   ]
  },
  {
   "attachments": {},
   "cell_type": "markdown",
   "metadata": {},
   "source": [
    "● Be sure to convert the datatype to float"
   ]
  },
  {
   "attachments": {},
   "cell_type": "markdown",
   "metadata": {},
   "source": [
    "● Normalize the ranges of values from 0-255 to a value between 0-1 by dividing the entire dataset by 255 except for the labels"
   ]
  },
  {
   "cell_type": "code",
   "execution_count": 5,
   "metadata": {},
   "outputs": [
    {
     "name": "stdout",
     "output_type": "stream",
     "text": [
      "X_train shape (60000, 28, 28)\n",
      "y_train shape (60000,)\n",
      "X_test shape (10000, 28, 28)\n",
      "y_test shape (10000,)\n"
     ]
    }
   ],
   "source": [
    "# Printing shape of training and testing data\n",
    "print(\"X_train shape\", x_train.shape)\n",
    "print(\"y_train shape\", y_train.shape)\n",
    "print(\"X_test shape\", x_test.shape)\n",
    "print(\"y_test shape\", y_test.shape)"
   ]
  },
  {
   "cell_type": "code",
   "execution_count": 6,
   "metadata": {},
   "outputs": [],
   "source": [
    "#model = keras.Sequential([keras.layers.Flatten(input_shape=(28, 28))])"
   ]
  },
  {
   "cell_type": "code",
   "execution_count": 7,
   "metadata": {},
   "outputs": [],
   "source": [
    "# Flattening the train and test data, convert data type to float\n",
    "x_train = x_train.astype(np.float32).reshape(-1, 28*28) / 255.0\n",
    "x_test = x_test.astype(np.float32).reshape(-1, 28*28) / 255.0"
   ]
  },
  {
   "cell_type": "code",
   "execution_count": 8,
   "metadata": {},
   "outputs": [
    {
     "name": "stdout",
     "output_type": "stream",
     "text": [
      "X_train shape (60000, 784)\n",
      "y_train shape (60000,)\n",
      "X_test shape (10000, 784)\n",
      "y_test shape (10000,)\n"
     ]
    }
   ],
   "source": [
    "# Re-printing shape of training and testing data after flattening\n",
    "print(\"X_train shape\", x_train.shape)\n",
    "print(\"y_train shape\", y_train.shape)\n",
    "print(\"X_test shape\", x_test.shape)\n",
    "print(\"y_test shape\", y_test.shape)"
   ]
  },
  {
   "attachments": {},
   "cell_type": "markdown",
   "metadata": {},
   "source": [
    "## MODEL TRAINING(40 POINTS):"
   ]
  },
  {
   "attachments": {},
   "cell_type": "markdown",
   "metadata": {},
   "source": [
    "The baseline for this model is 96% accuracy. Use any algorithm we have covered in the course, including ensembling and gridsearchCV, to create an MNIST image classifier that can beat 96% accuracy. If your model can not do better than 96% accuracy, you will only get half the credit for this part. Show accuracy and confusion matrix for all the models you have attempted. Which model performed the best for this problem?"
   ]
  },
  {
   "attachments": {},
   "cell_type": "markdown",
   "metadata": {},
   "source": [
    "Random Forest Classifier Model"
   ]
  },
  {
   "cell_type": "code",
   "execution_count": 9,
   "metadata": {},
   "outputs": [],
   "source": [
    "rfc=RandomForestClassifier(n_estimators=100, random_state=42)\n",
    "\n",
    "# Train model on training set\n",
    "rfc.fit(x_train,y_train)\n",
    "\n",
    "# Predict the response for test dataset\n",
    "y_pred = rfc.predict(x_test)"
   ]
  },
  {
   "cell_type": "code",
   "execution_count": 10,
   "metadata": {},
   "outputs": [
    {
     "name": "stdout",
     "output_type": "stream",
     "text": [
      "Classification Report\n",
      "\n",
      "              precision    recall  f1-score   support\n",
      "\n",
      "           0       0.97      0.99      0.98       980\n",
      "           1       0.99      0.99      0.99      1135\n",
      "           2       0.96      0.97      0.97      1032\n",
      "           3       0.96      0.96      0.96      1010\n",
      "           4       0.97      0.97      0.97       982\n",
      "           5       0.98      0.96      0.97       892\n",
      "           6       0.98      0.98      0.98       958\n",
      "           7       0.97      0.96      0.97      1028\n",
      "           8       0.96      0.95      0.96       974\n",
      "           9       0.96      0.95      0.96      1009\n",
      "\n",
      "    accuracy                           0.97     10000\n",
      "   macro avg       0.97      0.97      0.97     10000\n",
      "weighted avg       0.97      0.97      0.97     10000\n",
      "\n",
      "Confusion Matrix:\n",
      "\n",
      "[[ 971    0    0    0    0    2    3    1    3    0]\n",
      " [   0 1127    2    2    0    1    2    0    1    0]\n",
      " [   6    0 1002    5    3    0    3    8    5    0]\n",
      " [   1    0    9  972    0    9    0    9    8    2]\n",
      " [   1    0    0    0  955    0    5    1    4   16]\n",
      " [   5    1    1    9    2  860    5    2    5    2]\n",
      " [   7    3    0    0    3    3  937    0    5    0]\n",
      " [   1    4   20    2    0    0    0  989    2   10]\n",
      " [   4    0    6    7    5    5    5    4  930    8]\n",
      " [   7    6    2   12   12    1    0    4    4  961]]\n",
      "Random Forest Classifier Base Model Accuracy: 0.9704\n"
     ]
    }
   ],
   "source": [
    "# Classification Report\n",
    "print (\"Classification Report\\n\")\n",
    "print(classification_report(y_test, y_pred))\n",
    "\n",
    "# Confusion Matrix\n",
    "print (\"Confusion Matrix:\\n\")\n",
    "print(confusion_matrix(y_test, y_pred))\n",
    "\n",
    "# Model Accuracy\n",
    "print(\"Random Forest Classifier Base Model Accuracy:\", accuracy_score(y_test, y_pred))"
   ]
  },
  {
   "attachments": {},
   "cell_type": "markdown",
   "metadata": {},
   "source": [
    "Random Forest Grid Search Model"
   ]
  },
  {
   "cell_type": "code",
   "execution_count": 11,
   "metadata": {},
   "outputs": [
    {
     "name": "stdout",
     "output_type": "stream",
     "text": [
      "Fitting 5 folds for each of 81 candidates, totalling 405 fits\n",
      "[CV 1/5] END max_depth=None, min_samples_leaf=1, min_samples_split=2, n_estimators=50;, score=0.965 total time=  10.5s\n",
      "[CV 2/5] END max_depth=None, min_samples_leaf=1, min_samples_split=2, n_estimators=50;, score=0.962 total time=   9.9s\n",
      "[CV 3/5] END max_depth=None, min_samples_leaf=1, min_samples_split=2, n_estimators=50;, score=0.961 total time=  10.8s\n",
      "[CV 4/5] END max_depth=None, min_samples_leaf=1, min_samples_split=2, n_estimators=50;, score=0.961 total time=   9.7s\n",
      "[CV 5/5] END max_depth=None, min_samples_leaf=1, min_samples_split=2, n_estimators=50;, score=0.968 total time=  10.0s\n",
      "[CV 1/5] END max_depth=None, min_samples_leaf=1, min_samples_split=2, n_estimators=100;, score=0.966 total time=  20.7s\n",
      "[CV 2/5] END max_depth=None, min_samples_leaf=1, min_samples_split=2, n_estimators=100;, score=0.967 total time=  19.7s\n",
      "[CV 3/5] END max_depth=None, min_samples_leaf=1, min_samples_split=2, n_estimators=100;, score=0.964 total time=  19.8s\n",
      "[CV 4/5] END max_depth=None, min_samples_leaf=1, min_samples_split=2, n_estimators=100;, score=0.962 total time=  19.6s\n",
      "[CV 5/5] END max_depth=None, min_samples_leaf=1, min_samples_split=2, n_estimators=100;, score=0.971 total time=  19.7s\n",
      "[CV 1/5] END max_depth=None, min_samples_leaf=1, min_samples_split=2, n_estimators=200;, score=0.968 total time=  38.9s\n",
      "[CV 2/5] END max_depth=None, min_samples_leaf=1, min_samples_split=2, n_estimators=200;, score=0.967 total time=  38.9s\n",
      "[CV 3/5] END max_depth=None, min_samples_leaf=1, min_samples_split=2, n_estimators=200;, score=0.965 total time=  39.3s\n",
      "[CV 4/5] END max_depth=None, min_samples_leaf=1, min_samples_split=2, n_estimators=200;, score=0.965 total time=  38.8s\n",
      "[CV 5/5] END max_depth=None, min_samples_leaf=1, min_samples_split=2, n_estimators=200;, score=0.972 total time=  39.1s\n",
      "[CV 1/5] END max_depth=None, min_samples_leaf=1, min_samples_split=4, n_estimators=50;, score=0.966 total time=   9.6s\n",
      "[CV 2/5] END max_depth=None, min_samples_leaf=1, min_samples_split=4, n_estimators=50;, score=0.962 total time=   9.8s\n",
      "[CV 3/5] END max_depth=None, min_samples_leaf=1, min_samples_split=4, n_estimators=50;, score=0.961 total time=  10.4s\n",
      "[CV 4/5] END max_depth=None, min_samples_leaf=1, min_samples_split=4, n_estimators=50;, score=0.960 total time=  10.2s\n",
      "[CV 5/5] END max_depth=None, min_samples_leaf=1, min_samples_split=4, n_estimators=50;, score=0.968 total time=   9.7s\n",
      "[CV 1/5] END max_depth=None, min_samples_leaf=1, min_samples_split=4, n_estimators=100;, score=0.968 total time=  19.6s\n",
      "[CV 2/5] END max_depth=None, min_samples_leaf=1, min_samples_split=4, n_estimators=100;, score=0.964 total time=  19.4s\n",
      "[CV 3/5] END max_depth=None, min_samples_leaf=1, min_samples_split=4, n_estimators=100;, score=0.965 total time=  19.6s\n",
      "[CV 4/5] END max_depth=None, min_samples_leaf=1, min_samples_split=4, n_estimators=100;, score=0.963 total time=  19.5s\n",
      "[CV 5/5] END max_depth=None, min_samples_leaf=1, min_samples_split=4, n_estimators=100;, score=0.969 total time=  19.5s\n",
      "[CV 1/5] END max_depth=None, min_samples_leaf=1, min_samples_split=4, n_estimators=200;, score=0.970 total time=  38.8s\n",
      "[CV 2/5] END max_depth=None, min_samples_leaf=1, min_samples_split=4, n_estimators=200;, score=0.966 total time=  39.0s\n",
      "[CV 3/5] END max_depth=None, min_samples_leaf=1, min_samples_split=4, n_estimators=200;, score=0.965 total time=  38.9s\n",
      "[CV 4/5] END max_depth=None, min_samples_leaf=1, min_samples_split=4, n_estimators=200;, score=0.965 total time=  38.9s\n",
      "[CV 5/5] END max_depth=None, min_samples_leaf=1, min_samples_split=4, n_estimators=200;, score=0.971 total time=  39.5s\n",
      "[CV 1/5] END max_depth=None, min_samples_leaf=1, min_samples_split=8, n_estimators=50;, score=0.965 total time=   9.9s\n",
      "[CV 2/5] END max_depth=None, min_samples_leaf=1, min_samples_split=8, n_estimators=50;, score=0.961 total time=   9.5s\n",
      "[CV 3/5] END max_depth=None, min_samples_leaf=1, min_samples_split=8, n_estimators=50;, score=0.960 total time=   9.7s\n",
      "[CV 4/5] END max_depth=None, min_samples_leaf=1, min_samples_split=8, n_estimators=50;, score=0.961 total time=   9.6s\n",
      "[CV 5/5] END max_depth=None, min_samples_leaf=1, min_samples_split=8, n_estimators=50;, score=0.967 total time=   9.7s\n",
      "[CV 1/5] END max_depth=None, min_samples_leaf=1, min_samples_split=8, n_estimators=100;, score=0.965 total time=  19.5s\n",
      "[CV 2/5] END max_depth=None, min_samples_leaf=1, min_samples_split=8, n_estimators=100;, score=0.963 total time=  19.3s\n",
      "[CV 3/5] END max_depth=None, min_samples_leaf=1, min_samples_split=8, n_estimators=100;, score=0.963 total time=  19.1s\n",
      "[CV 4/5] END max_depth=None, min_samples_leaf=1, min_samples_split=8, n_estimators=100;, score=0.961 total time=  19.1s\n",
      "[CV 5/5] END max_depth=None, min_samples_leaf=1, min_samples_split=8, n_estimators=100;, score=0.970 total time=  19.2s\n",
      "[CV 1/5] END max_depth=None, min_samples_leaf=1, min_samples_split=8, n_estimators=200;, score=0.967 total time=  38.3s\n",
      "[CV 2/5] END max_depth=None, min_samples_leaf=1, min_samples_split=8, n_estimators=200;, score=0.965 total time=  38.4s\n",
      "[CV 3/5] END max_depth=None, min_samples_leaf=1, min_samples_split=8, n_estimators=200;, score=0.964 total time=  38.3s\n",
      "[CV 4/5] END max_depth=None, min_samples_leaf=1, min_samples_split=8, n_estimators=200;, score=0.962 total time=  38.9s\n",
      "[CV 5/5] END max_depth=None, min_samples_leaf=1, min_samples_split=8, n_estimators=200;, score=0.971 total time=  38.5s\n",
      "[CV 1/5] END max_depth=None, min_samples_leaf=2, min_samples_split=2, n_estimators=50;, score=0.963 total time=   9.6s\n",
      "[CV 2/5] END max_depth=None, min_samples_leaf=2, min_samples_split=2, n_estimators=50;, score=0.961 total time=   9.5s\n",
      "[CV 3/5] END max_depth=None, min_samples_leaf=2, min_samples_split=2, n_estimators=50;, score=0.959 total time=   9.3s\n",
      "[CV 4/5] END max_depth=None, min_samples_leaf=2, min_samples_split=2, n_estimators=50;, score=0.959 total time=   9.4s\n",
      "[CV 5/5] END max_depth=None, min_samples_leaf=2, min_samples_split=2, n_estimators=50;, score=0.968 total time=   9.5s\n",
      "[CV 1/5] END max_depth=None, min_samples_leaf=2, min_samples_split=2, n_estimators=100;, score=0.966 total time=  18.8s\n",
      "[CV 2/5] END max_depth=None, min_samples_leaf=2, min_samples_split=2, n_estimators=100;, score=0.963 total time=  18.9s\n",
      "[CV 3/5] END max_depth=None, min_samples_leaf=2, min_samples_split=2, n_estimators=100;, score=0.963 total time=  18.9s\n",
      "[CV 4/5] END max_depth=None, min_samples_leaf=2, min_samples_split=2, n_estimators=100;, score=0.960 total time=  18.9s\n",
      "[CV 5/5] END max_depth=None, min_samples_leaf=2, min_samples_split=2, n_estimators=100;, score=0.969 total time=  19.2s\n",
      "[CV 1/5] END max_depth=None, min_samples_leaf=2, min_samples_split=2, n_estimators=200;, score=0.966 total time=  37.9s\n",
      "[CV 2/5] END max_depth=None, min_samples_leaf=2, min_samples_split=2, n_estimators=200;, score=0.964 total time=  37.9s\n",
      "[CV 3/5] END max_depth=None, min_samples_leaf=2, min_samples_split=2, n_estimators=200;, score=0.963 total time=  38.3s\n",
      "[CV 4/5] END max_depth=None, min_samples_leaf=2, min_samples_split=2, n_estimators=200;, score=0.963 total time=  37.8s\n",
      "[CV 5/5] END max_depth=None, min_samples_leaf=2, min_samples_split=2, n_estimators=200;, score=0.970 total time=  37.7s\n",
      "[CV 1/5] END max_depth=None, min_samples_leaf=2, min_samples_split=4, n_estimators=50;, score=0.965 total time=   9.7s\n",
      "[CV 2/5] END max_depth=None, min_samples_leaf=2, min_samples_split=4, n_estimators=50;, score=0.961 total time=   9.6s\n",
      "[CV 3/5] END max_depth=None, min_samples_leaf=2, min_samples_split=4, n_estimators=50;, score=0.960 total time=   9.5s\n",
      "[CV 4/5] END max_depth=None, min_samples_leaf=2, min_samples_split=4, n_estimators=50;, score=0.960 total time=   9.5s\n",
      "[CV 5/5] END max_depth=None, min_samples_leaf=2, min_samples_split=4, n_estimators=50;, score=0.966 total time=   9.6s\n",
      "[CV 1/5] END max_depth=None, min_samples_leaf=2, min_samples_split=4, n_estimators=100;, score=0.967 total time=  18.9s\n",
      "[CV 2/5] END max_depth=None, min_samples_leaf=2, min_samples_split=4, n_estimators=100;, score=0.963 total time=  18.9s\n",
      "[CV 3/5] END max_depth=None, min_samples_leaf=2, min_samples_split=4, n_estimators=100;, score=0.962 total time=  18.8s\n",
      "[CV 4/5] END max_depth=None, min_samples_leaf=2, min_samples_split=4, n_estimators=100;, score=0.961 total time=  18.8s\n",
      "[CV 5/5] END max_depth=None, min_samples_leaf=2, min_samples_split=4, n_estimators=100;, score=0.969 total time=  18.9s\n",
      "[CV 1/5] END max_depth=None, min_samples_leaf=2, min_samples_split=4, n_estimators=200;, score=0.967 total time=  41.4s\n",
      "[CV 2/5] END max_depth=None, min_samples_leaf=2, min_samples_split=4, n_estimators=200;, score=0.966 total time=  38.3s\n",
      "[CV 3/5] END max_depth=None, min_samples_leaf=2, min_samples_split=4, n_estimators=200;, score=0.963 total time=  38.1s\n",
      "[CV 4/5] END max_depth=None, min_samples_leaf=2, min_samples_split=4, n_estimators=200;, score=0.964 total time=  37.7s\n",
      "[CV 5/5] END max_depth=None, min_samples_leaf=2, min_samples_split=4, n_estimators=200;, score=0.970 total time=  40.4s\n",
      "[CV 1/5] END max_depth=None, min_samples_leaf=2, min_samples_split=8, n_estimators=50;, score=0.964 total time=   9.4s\n",
      "[CV 2/5] END max_depth=None, min_samples_leaf=2, min_samples_split=8, n_estimators=50;, score=0.960 total time=  10.4s\n",
      "[CV 3/5] END max_depth=None, min_samples_leaf=2, min_samples_split=8, n_estimators=50;, score=0.960 total time=  11.5s\n",
      "[CV 4/5] END max_depth=None, min_samples_leaf=2, min_samples_split=8, n_estimators=50;, score=0.960 total time=   9.8s\n",
      "[CV 5/5] END max_depth=None, min_samples_leaf=2, min_samples_split=8, n_estimators=50;, score=0.966 total time=   9.6s\n",
      "[CV 1/5] END max_depth=None, min_samples_leaf=2, min_samples_split=8, n_estimators=100;, score=0.965 total time=  19.1s\n",
      "[CV 2/5] END max_depth=None, min_samples_leaf=2, min_samples_split=8, n_estimators=100;, score=0.963 total time=  19.1s\n",
      "[CV 3/5] END max_depth=None, min_samples_leaf=2, min_samples_split=8, n_estimators=100;, score=0.961 total time=  19.0s\n",
      "[CV 4/5] END max_depth=None, min_samples_leaf=2, min_samples_split=8, n_estimators=100;, score=0.960 total time=  18.8s\n",
      "[CV 5/5] END max_depth=None, min_samples_leaf=2, min_samples_split=8, n_estimators=100;, score=0.968 total time=  19.2s\n",
      "[CV 1/5] END max_depth=None, min_samples_leaf=2, min_samples_split=8, n_estimators=200;, score=0.966 total time=  40.5s\n",
      "[CV 2/5] END max_depth=None, min_samples_leaf=2, min_samples_split=8, n_estimators=200;, score=0.963 total time=  38.8s\n",
      "[CV 3/5] END max_depth=None, min_samples_leaf=2, min_samples_split=8, n_estimators=200;, score=0.962 total time=  38.9s\n",
      "[CV 4/5] END max_depth=None, min_samples_leaf=2, min_samples_split=8, n_estimators=200;, score=0.962 total time=  37.7s\n",
      "[CV 5/5] END max_depth=None, min_samples_leaf=2, min_samples_split=8, n_estimators=200;, score=0.968 total time=  37.3s\n",
      "[CV 1/5] END max_depth=None, min_samples_leaf=4, min_samples_split=2, n_estimators=50;, score=0.961 total time=   8.9s\n",
      "[CV 2/5] END max_depth=None, min_samples_leaf=4, min_samples_split=2, n_estimators=50;, score=0.960 total time=   9.0s\n",
      "[CV 3/5] END max_depth=None, min_samples_leaf=4, min_samples_split=2, n_estimators=50;, score=0.960 total time=   9.2s\n",
      "[CV 4/5] END max_depth=None, min_samples_leaf=4, min_samples_split=2, n_estimators=50;, score=0.956 total time=   8.9s\n",
      "[CV 5/5] END max_depth=None, min_samples_leaf=4, min_samples_split=2, n_estimators=50;, score=0.964 total time=   9.0s\n",
      "[CV 1/5] END max_depth=None, min_samples_leaf=4, min_samples_split=2, n_estimators=100;, score=0.964 total time=  17.7s\n",
      "[CV 2/5] END max_depth=None, min_samples_leaf=4, min_samples_split=2, n_estimators=100;, score=0.959 total time=  17.9s\n",
      "[CV 3/5] END max_depth=None, min_samples_leaf=4, min_samples_split=2, n_estimators=100;, score=0.960 total time=  17.8s\n",
      "[CV 4/5] END max_depth=None, min_samples_leaf=4, min_samples_split=2, n_estimators=100;, score=0.959 total time=  17.8s\n",
      "[CV 5/5] END max_depth=None, min_samples_leaf=4, min_samples_split=2, n_estimators=100;, score=0.967 total time=  17.6s\n",
      "[CV 1/5] END max_depth=None, min_samples_leaf=4, min_samples_split=2, n_estimators=200;, score=0.964 total time=  35.5s\n",
      "[CV 2/5] END max_depth=None, min_samples_leaf=4, min_samples_split=2, n_estimators=200;, score=0.962 total time=  35.7s\n",
      "[CV 3/5] END max_depth=None, min_samples_leaf=4, min_samples_split=2, n_estimators=200;, score=0.959 total time=  35.7s\n",
      "[CV 4/5] END max_depth=None, min_samples_leaf=4, min_samples_split=2, n_estimators=200;, score=0.961 total time=  35.6s\n",
      "[CV 5/5] END max_depth=None, min_samples_leaf=4, min_samples_split=2, n_estimators=200;, score=0.967 total time=  36.1s\n",
      "[CV 1/5] END max_depth=None, min_samples_leaf=4, min_samples_split=4, n_estimators=50;, score=0.962 total time=   9.1s\n",
      "[CV 2/5] END max_depth=None, min_samples_leaf=4, min_samples_split=4, n_estimators=50;, score=0.959 total time=   9.6s\n",
      "[CV 3/5] END max_depth=None, min_samples_leaf=4, min_samples_split=4, n_estimators=50;, score=0.955 total time=   9.2s\n",
      "[CV 4/5] END max_depth=None, min_samples_leaf=4, min_samples_split=4, n_estimators=50;, score=0.957 total time=   9.2s\n",
      "[CV 5/5] END max_depth=None, min_samples_leaf=4, min_samples_split=4, n_estimators=50;, score=0.964 total time=   9.2s\n",
      "[CV 1/5] END max_depth=None, min_samples_leaf=4, min_samples_split=4, n_estimators=100;, score=0.963 total time=  18.0s\n",
      "[CV 2/5] END max_depth=None, min_samples_leaf=4, min_samples_split=4, n_estimators=100;, score=0.961 total time=  17.9s\n",
      "[CV 3/5] END max_depth=None, min_samples_leaf=4, min_samples_split=4, n_estimators=100;, score=0.959 total time=  17.9s\n",
      "[CV 4/5] END max_depth=None, min_samples_leaf=4, min_samples_split=4, n_estimators=100;, score=0.958 total time=  18.1s\n",
      "[CV 5/5] END max_depth=None, min_samples_leaf=4, min_samples_split=4, n_estimators=100;, score=0.968 total time=  18.0s\n",
      "[CV 1/5] END max_depth=None, min_samples_leaf=4, min_samples_split=4, n_estimators=200;, score=0.965 total time=  35.7s\n",
      "[CV 2/5] END max_depth=None, min_samples_leaf=4, min_samples_split=4, n_estimators=200;, score=0.961 total time=  35.8s\n",
      "[CV 3/5] END max_depth=None, min_samples_leaf=4, min_samples_split=4, n_estimators=200;, score=0.959 total time=  35.5s\n",
      "[CV 4/5] END max_depth=None, min_samples_leaf=4, min_samples_split=4, n_estimators=200;, score=0.959 total time=  35.7s\n",
      "[CV 5/5] END max_depth=None, min_samples_leaf=4, min_samples_split=4, n_estimators=200;, score=0.967 total time=  35.8s\n",
      "[CV 1/5] END max_depth=None, min_samples_leaf=4, min_samples_split=8, n_estimators=50;, score=0.962 total time=   8.9s\n",
      "[CV 2/5] END max_depth=None, min_samples_leaf=4, min_samples_split=8, n_estimators=50;, score=0.957 total time=   8.9s\n",
      "[CV 3/5] END max_depth=None, min_samples_leaf=4, min_samples_split=8, n_estimators=50;, score=0.958 total time=   8.9s\n",
      "[CV 4/5] END max_depth=None, min_samples_leaf=4, min_samples_split=8, n_estimators=50;, score=0.953 total time=   9.1s\n",
      "[CV 5/5] END max_depth=None, min_samples_leaf=4, min_samples_split=8, n_estimators=50;, score=0.965 total time=   9.0s\n",
      "[CV 1/5] END max_depth=None, min_samples_leaf=4, min_samples_split=8, n_estimators=100;, score=0.962 total time=  17.8s\n",
      "[CV 2/5] END max_depth=None, min_samples_leaf=4, min_samples_split=8, n_estimators=100;, score=0.961 total time=  18.2s\n",
      "[CV 3/5] END max_depth=None, min_samples_leaf=4, min_samples_split=8, n_estimators=100;, score=0.959 total time=  18.4s\n",
      "[CV 4/5] END max_depth=None, min_samples_leaf=4, min_samples_split=8, n_estimators=100;, score=0.957 total time=  18.0s\n",
      "[CV 5/5] END max_depth=None, min_samples_leaf=4, min_samples_split=8, n_estimators=100;, score=0.966 total time=  18.0s\n",
      "[CV 1/5] END max_depth=None, min_samples_leaf=4, min_samples_split=8, n_estimators=200;, score=0.964 total time=  36.4s\n",
      "[CV 2/5] END max_depth=None, min_samples_leaf=4, min_samples_split=8, n_estimators=200;, score=0.962 total time=  36.8s\n",
      "[CV 3/5] END max_depth=None, min_samples_leaf=4, min_samples_split=8, n_estimators=200;, score=0.959 total time=  35.6s\n",
      "[CV 4/5] END max_depth=None, min_samples_leaf=4, min_samples_split=8, n_estimators=200;, score=0.960 total time=  35.7s\n",
      "[CV 5/5] END max_depth=None, min_samples_leaf=4, min_samples_split=8, n_estimators=200;, score=0.967 total time=  36.1s\n",
      "[CV 1/5] END max_depth=10, min_samples_leaf=1, min_samples_split=2, n_estimators=50;, score=0.945 total time=   6.7s\n",
      "[CV 2/5] END max_depth=10, min_samples_leaf=1, min_samples_split=2, n_estimators=50;, score=0.942 total time=   6.8s\n",
      "[CV 3/5] END max_depth=10, min_samples_leaf=1, min_samples_split=2, n_estimators=50;, score=0.940 total time=   6.5s\n",
      "[CV 4/5] END max_depth=10, min_samples_leaf=1, min_samples_split=2, n_estimators=50;, score=0.937 total time=   6.5s\n",
      "[CV 5/5] END max_depth=10, min_samples_leaf=1, min_samples_split=2, n_estimators=50;, score=0.947 total time=   6.4s\n",
      "[CV 1/5] END max_depth=10, min_samples_leaf=1, min_samples_split=2, n_estimators=100;, score=0.945 total time=  12.9s\n",
      "[CV 2/5] END max_depth=10, min_samples_leaf=1, min_samples_split=2, n_estimators=100;, score=0.943 total time=  13.0s\n",
      "[CV 3/5] END max_depth=10, min_samples_leaf=1, min_samples_split=2, n_estimators=100;, score=0.941 total time=  13.0s\n",
      "[CV 4/5] END max_depth=10, min_samples_leaf=1, min_samples_split=2, n_estimators=100;, score=0.941 total time=  12.9s\n",
      "[CV 5/5] END max_depth=10, min_samples_leaf=1, min_samples_split=2, n_estimators=100;, score=0.951 total time=  12.9s\n",
      "[CV 1/5] END max_depth=10, min_samples_leaf=1, min_samples_split=2, n_estimators=200;, score=0.948 total time=  25.8s\n",
      "[CV 2/5] END max_depth=10, min_samples_leaf=1, min_samples_split=2, n_estimators=200;, score=0.943 total time=  25.6s\n",
      "[CV 3/5] END max_depth=10, min_samples_leaf=1, min_samples_split=2, n_estimators=200;, score=0.941 total time=  25.8s\n",
      "[CV 4/5] END max_depth=10, min_samples_leaf=1, min_samples_split=2, n_estimators=200;, score=0.941 total time=  25.6s\n",
      "[CV 5/5] END max_depth=10, min_samples_leaf=1, min_samples_split=2, n_estimators=200;, score=0.952 total time=  25.6s\n",
      "[CV 1/5] END max_depth=10, min_samples_leaf=1, min_samples_split=4, n_estimators=50;, score=0.942 total time=   6.4s\n",
      "[CV 2/5] END max_depth=10, min_samples_leaf=1, min_samples_split=4, n_estimators=50;, score=0.940 total time=   6.5s\n",
      "[CV 3/5] END max_depth=10, min_samples_leaf=1, min_samples_split=4, n_estimators=50;, score=0.936 total time=   6.4s\n",
      "[CV 4/5] END max_depth=10, min_samples_leaf=1, min_samples_split=4, n_estimators=50;, score=0.938 total time=   6.5s\n",
      "[CV 5/5] END max_depth=10, min_samples_leaf=1, min_samples_split=4, n_estimators=50;, score=0.948 total time=   6.4s\n",
      "[CV 1/5] END max_depth=10, min_samples_leaf=1, min_samples_split=4, n_estimators=100;, score=0.947 total time=  12.8s\n",
      "[CV 2/5] END max_depth=10, min_samples_leaf=1, min_samples_split=4, n_estimators=100;, score=0.944 total time=  12.7s\n",
      "[CV 3/5] END max_depth=10, min_samples_leaf=1, min_samples_split=4, n_estimators=100;, score=0.938 total time=  12.7s\n",
      "[CV 4/5] END max_depth=10, min_samples_leaf=1, min_samples_split=4, n_estimators=100;, score=0.939 total time=  12.8s\n",
      "[CV 5/5] END max_depth=10, min_samples_leaf=1, min_samples_split=4, n_estimators=100;, score=0.952 total time=  12.9s\n",
      "[CV 1/5] END max_depth=10, min_samples_leaf=1, min_samples_split=4, n_estimators=200;, score=0.948 total time=  25.6s\n",
      "[CV 2/5] END max_depth=10, min_samples_leaf=1, min_samples_split=4, n_estimators=200;, score=0.945 total time=  25.4s\n",
      "[CV 3/5] END max_depth=10, min_samples_leaf=1, min_samples_split=4, n_estimators=200;, score=0.941 total time=  25.6s\n",
      "[CV 4/5] END max_depth=10, min_samples_leaf=1, min_samples_split=4, n_estimators=200;, score=0.941 total time=  25.7s\n",
      "[CV 5/5] END max_depth=10, min_samples_leaf=1, min_samples_split=4, n_estimators=200;, score=0.952 total time=  25.7s\n",
      "[CV 1/5] END max_depth=10, min_samples_leaf=1, min_samples_split=8, n_estimators=50;, score=0.943 total time=   6.4s\n",
      "[CV 2/5] END max_depth=10, min_samples_leaf=1, min_samples_split=8, n_estimators=50;, score=0.939 total time=   6.8s\n",
      "[CV 3/5] END max_depth=10, min_samples_leaf=1, min_samples_split=8, n_estimators=50;, score=0.938 total time=   6.5s\n",
      "[CV 4/5] END max_depth=10, min_samples_leaf=1, min_samples_split=8, n_estimators=50;, score=0.938 total time=   6.5s\n",
      "[CV 5/5] END max_depth=10, min_samples_leaf=1, min_samples_split=8, n_estimators=50;, score=0.949 total time=   6.4s\n",
      "[CV 1/5] END max_depth=10, min_samples_leaf=1, min_samples_split=8, n_estimators=100;, score=0.947 total time=  12.8s\n",
      "[CV 2/5] END max_depth=10, min_samples_leaf=1, min_samples_split=8, n_estimators=100;, score=0.943 total time=  12.8s\n",
      "[CV 3/5] END max_depth=10, min_samples_leaf=1, min_samples_split=8, n_estimators=100;, score=0.940 total time=  12.8s\n",
      "[CV 4/5] END max_depth=10, min_samples_leaf=1, min_samples_split=8, n_estimators=100;, score=0.940 total time=  12.7s\n",
      "[CV 5/5] END max_depth=10, min_samples_leaf=1, min_samples_split=8, n_estimators=100;, score=0.950 total time=  12.8s\n",
      "[CV 1/5] END max_depth=10, min_samples_leaf=1, min_samples_split=8, n_estimators=200;, score=0.949 total time=  25.7s\n",
      "[CV 2/5] END max_depth=10, min_samples_leaf=1, min_samples_split=8, n_estimators=200;, score=0.944 total time=  25.6s\n",
      "[CV 3/5] END max_depth=10, min_samples_leaf=1, min_samples_split=8, n_estimators=200;, score=0.943 total time=  25.8s\n",
      "[CV 4/5] END max_depth=10, min_samples_leaf=1, min_samples_split=8, n_estimators=200;, score=0.941 total time=  25.8s\n",
      "[CV 5/5] END max_depth=10, min_samples_leaf=1, min_samples_split=8, n_estimators=200;, score=0.951 total time=  25.6s\n",
      "[CV 1/5] END max_depth=10, min_samples_leaf=2, min_samples_split=2, n_estimators=50;, score=0.944 total time=   6.5s\n",
      "[CV 2/5] END max_depth=10, min_samples_leaf=2, min_samples_split=2, n_estimators=50;, score=0.942 total time=   6.5s\n",
      "[CV 3/5] END max_depth=10, min_samples_leaf=2, min_samples_split=2, n_estimators=50;, score=0.937 total time=   6.4s\n",
      "[CV 4/5] END max_depth=10, min_samples_leaf=2, min_samples_split=2, n_estimators=50;, score=0.938 total time=   6.7s\n",
      "[CV 5/5] END max_depth=10, min_samples_leaf=2, min_samples_split=2, n_estimators=50;, score=0.947 total time=   6.4s\n",
      "[CV 1/5] END max_depth=10, min_samples_leaf=2, min_samples_split=2, n_estimators=100;, score=0.946 total time=  12.7s\n",
      "[CV 2/5] END max_depth=10, min_samples_leaf=2, min_samples_split=2, n_estimators=100;, score=0.943 total time=  12.8s\n",
      "[CV 3/5] END max_depth=10, min_samples_leaf=2, min_samples_split=2, n_estimators=100;, score=0.940 total time=  13.0s\n",
      "[CV 4/5] END max_depth=10, min_samples_leaf=2, min_samples_split=2, n_estimators=100;, score=0.940 total time=  13.0s\n",
      "[CV 5/5] END max_depth=10, min_samples_leaf=2, min_samples_split=2, n_estimators=100;, score=0.952 total time=  13.1s\n",
      "[CV 1/5] END max_depth=10, min_samples_leaf=2, min_samples_split=2, n_estimators=200;, score=0.947 total time=  26.7s\n",
      "[CV 2/5] END max_depth=10, min_samples_leaf=2, min_samples_split=2, n_estimators=200;, score=0.944 total time=  25.7s\n",
      "[CV 3/5] END max_depth=10, min_samples_leaf=2, min_samples_split=2, n_estimators=200;, score=0.943 total time=  25.5s\n",
      "[CV 4/5] END max_depth=10, min_samples_leaf=2, min_samples_split=2, n_estimators=200;, score=0.940 total time=  25.8s\n",
      "[CV 5/5] END max_depth=10, min_samples_leaf=2, min_samples_split=2, n_estimators=200;, score=0.951 total time=  25.7s\n",
      "[CV 1/5] END max_depth=10, min_samples_leaf=2, min_samples_split=4, n_estimators=50;, score=0.943 total time=   6.5s\n",
      "[CV 2/5] END max_depth=10, min_samples_leaf=2, min_samples_split=4, n_estimators=50;, score=0.941 total time=   6.4s\n",
      "[CV 3/5] END max_depth=10, min_samples_leaf=2, min_samples_split=4, n_estimators=50;, score=0.934 total time=   6.4s\n",
      "[CV 4/5] END max_depth=10, min_samples_leaf=2, min_samples_split=4, n_estimators=50;, score=0.937 total time=   6.4s\n",
      "[CV 5/5] END max_depth=10, min_samples_leaf=2, min_samples_split=4, n_estimators=50;, score=0.948 total time=   6.4s\n",
      "[CV 1/5] END max_depth=10, min_samples_leaf=2, min_samples_split=4, n_estimators=100;, score=0.946 total time=  12.6s\n",
      "[CV 2/5] END max_depth=10, min_samples_leaf=2, min_samples_split=4, n_estimators=100;, score=0.944 total time=  12.7s\n",
      "[CV 3/5] END max_depth=10, min_samples_leaf=2, min_samples_split=4, n_estimators=100;, score=0.941 total time=  12.8s\n",
      "[CV 4/5] END max_depth=10, min_samples_leaf=2, min_samples_split=4, n_estimators=100;, score=0.939 total time=  12.9s\n",
      "[CV 5/5] END max_depth=10, min_samples_leaf=2, min_samples_split=4, n_estimators=100;, score=0.952 total time=  12.9s\n",
      "[CV 1/5] END max_depth=10, min_samples_leaf=2, min_samples_split=4, n_estimators=200;, score=0.948 total time=  26.0s\n",
      "[CV 2/5] END max_depth=10, min_samples_leaf=2, min_samples_split=4, n_estimators=200;, score=0.945 total time=  25.9s\n",
      "[CV 3/5] END max_depth=10, min_samples_leaf=2, min_samples_split=4, n_estimators=200;, score=0.943 total time=  26.3s\n",
      "[CV 4/5] END max_depth=10, min_samples_leaf=2, min_samples_split=4, n_estimators=200;, score=0.941 total time=  26.1s\n",
      "[CV 5/5] END max_depth=10, min_samples_leaf=2, min_samples_split=4, n_estimators=200;, score=0.952 total time=  26.2s\n",
      "[CV 1/5] END max_depth=10, min_samples_leaf=2, min_samples_split=8, n_estimators=50;, score=0.943 total time=   6.7s\n",
      "[CV 2/5] END max_depth=10, min_samples_leaf=2, min_samples_split=8, n_estimators=50;, score=0.942 total time=   6.7s\n",
      "[CV 3/5] END max_depth=10, min_samples_leaf=2, min_samples_split=8, n_estimators=50;, score=0.937 total time=   6.6s\n",
      "[CV 4/5] END max_depth=10, min_samples_leaf=2, min_samples_split=8, n_estimators=50;, score=0.937 total time=   6.5s\n",
      "[CV 5/5] END max_depth=10, min_samples_leaf=2, min_samples_split=8, n_estimators=50;, score=0.949 total time=   6.6s\n",
      "[CV 1/5] END max_depth=10, min_samples_leaf=2, min_samples_split=8, n_estimators=100;, score=0.946 total time=  15.5s\n",
      "[CV 2/5] END max_depth=10, min_samples_leaf=2, min_samples_split=8, n_estimators=100;, score=0.943 total time=  13.6s\n",
      "[CV 3/5] END max_depth=10, min_samples_leaf=2, min_samples_split=8, n_estimators=100;, score=0.939 total time=  13.6s\n",
      "[CV 4/5] END max_depth=10, min_samples_leaf=2, min_samples_split=8, n_estimators=100;, score=0.940 total time=  13.1s\n",
      "[CV 5/5] END max_depth=10, min_samples_leaf=2, min_samples_split=8, n_estimators=100;, score=0.951 total time=  13.1s\n",
      "[CV 1/5] END max_depth=10, min_samples_leaf=2, min_samples_split=8, n_estimators=200;, score=0.949 total time=  26.8s\n",
      "[CV 2/5] END max_depth=10, min_samples_leaf=2, min_samples_split=8, n_estimators=200;, score=0.944 total time=  26.8s\n",
      "[CV 3/5] END max_depth=10, min_samples_leaf=2, min_samples_split=8, n_estimators=200;, score=0.942 total time=  25.8s\n",
      "[CV 4/5] END max_depth=10, min_samples_leaf=2, min_samples_split=8, n_estimators=200;, score=0.941 total time=  25.7s\n",
      "[CV 5/5] END max_depth=10, min_samples_leaf=2, min_samples_split=8, n_estimators=200;, score=0.951 total time=  26.6s\n",
      "[CV 1/5] END max_depth=10, min_samples_leaf=4, min_samples_split=2, n_estimators=50;, score=0.943 total time=   7.3s\n",
      "[CV 2/5] END max_depth=10, min_samples_leaf=4, min_samples_split=2, n_estimators=50;, score=0.940 total time=   7.2s\n",
      "[CV 3/5] END max_depth=10, min_samples_leaf=4, min_samples_split=2, n_estimators=50;, score=0.939 total time=   6.9s\n",
      "[CV 4/5] END max_depth=10, min_samples_leaf=4, min_samples_split=2, n_estimators=50;, score=0.937 total time=   6.4s\n",
      "[CV 5/5] END max_depth=10, min_samples_leaf=4, min_samples_split=2, n_estimators=50;, score=0.948 total time=   6.5s\n",
      "[CV 1/5] END max_depth=10, min_samples_leaf=4, min_samples_split=2, n_estimators=100;, score=0.946 total time=  13.3s\n",
      "[CV 2/5] END max_depth=10, min_samples_leaf=4, min_samples_split=2, n_estimators=100;, score=0.944 total time=  13.2s\n",
      "[CV 3/5] END max_depth=10, min_samples_leaf=4, min_samples_split=2, n_estimators=100;, score=0.940 total time=  12.9s\n",
      "[CV 4/5] END max_depth=10, min_samples_leaf=4, min_samples_split=2, n_estimators=100;, score=0.939 total time=  12.9s\n",
      "[CV 5/5] END max_depth=10, min_samples_leaf=4, min_samples_split=2, n_estimators=100;, score=0.949 total time=  12.6s\n",
      "[CV 1/5] END max_depth=10, min_samples_leaf=4, min_samples_split=2, n_estimators=200;, score=0.947 total time=  25.0s\n",
      "[CV 2/5] END max_depth=10, min_samples_leaf=4, min_samples_split=2, n_estimators=200;, score=0.944 total time=  25.2s\n",
      "[CV 3/5] END max_depth=10, min_samples_leaf=4, min_samples_split=2, n_estimators=200;, score=0.941 total time=  25.3s\n",
      "[CV 4/5] END max_depth=10, min_samples_leaf=4, min_samples_split=2, n_estimators=200;, score=0.941 total time=  25.4s\n",
      "[CV 5/5] END max_depth=10, min_samples_leaf=4, min_samples_split=2, n_estimators=200;, score=0.951 total time=  25.8s\n",
      "[CV 1/5] END max_depth=10, min_samples_leaf=4, min_samples_split=4, n_estimators=50;, score=0.943 total time=   6.3s\n",
      "[CV 2/5] END max_depth=10, min_samples_leaf=4, min_samples_split=4, n_estimators=50;, score=0.940 total time=   6.3s\n",
      "[CV 3/5] END max_depth=10, min_samples_leaf=4, min_samples_split=4, n_estimators=50;, score=0.937 total time=   6.6s\n",
      "[CV 4/5] END max_depth=10, min_samples_leaf=4, min_samples_split=4, n_estimators=50;, score=0.934 total time=   6.4s\n",
      "[CV 5/5] END max_depth=10, min_samples_leaf=4, min_samples_split=4, n_estimators=50;, score=0.950 total time=   6.4s\n",
      "[CV 1/5] END max_depth=10, min_samples_leaf=4, min_samples_split=4, n_estimators=100;, score=0.946 total time=  12.8s\n",
      "[CV 2/5] END max_depth=10, min_samples_leaf=4, min_samples_split=4, n_estimators=100;, score=0.944 total time=  12.7s\n",
      "[CV 3/5] END max_depth=10, min_samples_leaf=4, min_samples_split=4, n_estimators=100;, score=0.941 total time=  12.6s\n",
      "[CV 4/5] END max_depth=10, min_samples_leaf=4, min_samples_split=4, n_estimators=100;, score=0.940 total time=  12.6s\n",
      "[CV 5/5] END max_depth=10, min_samples_leaf=4, min_samples_split=4, n_estimators=100;, score=0.950 total time=  12.8s\n",
      "[CV 1/5] END max_depth=10, min_samples_leaf=4, min_samples_split=4, n_estimators=200;, score=0.947 total time=  25.4s\n",
      "[CV 2/5] END max_depth=10, min_samples_leaf=4, min_samples_split=4, n_estimators=200;, score=0.943 total time=  26.4s\n",
      "[CV 3/5] END max_depth=10, min_samples_leaf=4, min_samples_split=4, n_estimators=200;, score=0.941 total time=  26.5s\n",
      "[CV 4/5] END max_depth=10, min_samples_leaf=4, min_samples_split=4, n_estimators=200;, score=0.939 total time=  26.3s\n",
      "[CV 5/5] END max_depth=10, min_samples_leaf=4, min_samples_split=4, n_estimators=200;, score=0.951 total time=  26.0s\n",
      "[CV 1/5] END max_depth=10, min_samples_leaf=4, min_samples_split=8, n_estimators=50;, score=0.944 total time=   6.7s\n",
      "[CV 2/5] END max_depth=10, min_samples_leaf=4, min_samples_split=8, n_estimators=50;, score=0.938 total time=   7.0s\n",
      "[CV 3/5] END max_depth=10, min_samples_leaf=4, min_samples_split=8, n_estimators=50;, score=0.937 total time=   6.9s\n",
      "[CV 4/5] END max_depth=10, min_samples_leaf=4, min_samples_split=8, n_estimators=50;, score=0.938 total time=   6.6s\n",
      "[CV 5/5] END max_depth=10, min_samples_leaf=4, min_samples_split=8, n_estimators=50;, score=0.948 total time=   6.4s\n",
      "[CV 1/5] END max_depth=10, min_samples_leaf=4, min_samples_split=8, n_estimators=100;, score=0.945 total time=  12.8s\n",
      "[CV 2/5] END max_depth=10, min_samples_leaf=4, min_samples_split=8, n_estimators=100;, score=0.943 total time=  12.9s\n",
      "[CV 3/5] END max_depth=10, min_samples_leaf=4, min_samples_split=8, n_estimators=100;, score=0.942 total time=  12.9s\n",
      "[CV 4/5] END max_depth=10, min_samples_leaf=4, min_samples_split=8, n_estimators=100;, score=0.941 total time=  12.8s\n",
      "[CV 5/5] END max_depth=10, min_samples_leaf=4, min_samples_split=8, n_estimators=100;, score=0.951 total time=  12.8s\n",
      "[CV 1/5] END max_depth=10, min_samples_leaf=4, min_samples_split=8, n_estimators=200;, score=0.947 total time=  25.3s\n",
      "[CV 2/5] END max_depth=10, min_samples_leaf=4, min_samples_split=8, n_estimators=200;, score=0.945 total time=  26.5s\n",
      "[CV 3/5] END max_depth=10, min_samples_leaf=4, min_samples_split=8, n_estimators=200;, score=0.941 total time=  25.8s\n",
      "[CV 4/5] END max_depth=10, min_samples_leaf=4, min_samples_split=8, n_estimators=200;, score=0.942 total time=  25.6s\n",
      "[CV 5/5] END max_depth=10, min_samples_leaf=4, min_samples_split=8, n_estimators=200;, score=0.952 total time=  25.6s\n",
      "[CV 1/5] END max_depth=20, min_samples_leaf=1, min_samples_split=2, n_estimators=50;, score=0.963 total time=   9.9s\n",
      "[CV 2/5] END max_depth=20, min_samples_leaf=1, min_samples_split=2, n_estimators=50;, score=0.964 total time=   9.6s\n",
      "[CV 3/5] END max_depth=20, min_samples_leaf=1, min_samples_split=2, n_estimators=50;, score=0.960 total time=   9.8s\n",
      "[CV 4/5] END max_depth=20, min_samples_leaf=1, min_samples_split=2, n_estimators=50;, score=0.961 total time=  10.0s\n",
      "[CV 5/5] END max_depth=20, min_samples_leaf=1, min_samples_split=2, n_estimators=50;, score=0.967 total time=   9.8s\n",
      "[CV 1/5] END max_depth=20, min_samples_leaf=1, min_samples_split=2, n_estimators=100;, score=0.967 total time=  18.9s\n",
      "[CV 2/5] END max_depth=20, min_samples_leaf=1, min_samples_split=2, n_estimators=100;, score=0.966 total time=  19.1s\n",
      "[CV 3/5] END max_depth=20, min_samples_leaf=1, min_samples_split=2, n_estimators=100;, score=0.964 total time=  19.0s\n",
      "[CV 4/5] END max_depth=20, min_samples_leaf=1, min_samples_split=2, n_estimators=100;, score=0.964 total time=  19.0s\n",
      "[CV 5/5] END max_depth=20, min_samples_leaf=1, min_samples_split=2, n_estimators=100;, score=0.970 total time=  19.2s\n",
      "[CV 1/5] END max_depth=20, min_samples_leaf=1, min_samples_split=2, n_estimators=200;, score=0.968 total time=  38.3s\n",
      "[CV 2/5] END max_depth=20, min_samples_leaf=1, min_samples_split=2, n_estimators=200;, score=0.967 total time=  37.8s\n",
      "[CV 3/5] END max_depth=20, min_samples_leaf=1, min_samples_split=2, n_estimators=200;, score=0.965 total time=  38.6s\n",
      "[CV 4/5] END max_depth=20, min_samples_leaf=1, min_samples_split=2, n_estimators=200;, score=0.965 total time=  38.3s\n",
      "[CV 5/5] END max_depth=20, min_samples_leaf=1, min_samples_split=2, n_estimators=200;, score=0.970 total time=  37.6s\n",
      "[CV 1/5] END max_depth=20, min_samples_leaf=1, min_samples_split=4, n_estimators=50;, score=0.964 total time=   9.3s\n",
      "[CV 2/5] END max_depth=20, min_samples_leaf=1, min_samples_split=4, n_estimators=50;, score=0.962 total time=   9.5s\n",
      "[CV 3/5] END max_depth=20, min_samples_leaf=1, min_samples_split=4, n_estimators=50;, score=0.961 total time=   9.5s\n",
      "[CV 4/5] END max_depth=20, min_samples_leaf=1, min_samples_split=4, n_estimators=50;, score=0.958 total time=   9.3s\n",
      "[CV 5/5] END max_depth=20, min_samples_leaf=1, min_samples_split=4, n_estimators=50;, score=0.966 total time=   9.3s\n",
      "[CV 1/5] END max_depth=20, min_samples_leaf=1, min_samples_split=4, n_estimators=100;, score=0.968 total time=  18.7s\n",
      "[CV 2/5] END max_depth=20, min_samples_leaf=1, min_samples_split=4, n_estimators=100;, score=0.964 total time=  19.1s\n",
      "[CV 3/5] END max_depth=20, min_samples_leaf=1, min_samples_split=4, n_estimators=100;, score=0.964 total time=  18.9s\n",
      "[CV 4/5] END max_depth=20, min_samples_leaf=1, min_samples_split=4, n_estimators=100;, score=0.963 total time=  18.8s\n",
      "[CV 5/5] END max_depth=20, min_samples_leaf=1, min_samples_split=4, n_estimators=100;, score=0.970 total time=  18.8s\n",
      "[CV 1/5] END max_depth=20, min_samples_leaf=1, min_samples_split=4, n_estimators=200;, score=0.968 total time=  37.4s\n",
      "[CV 2/5] END max_depth=20, min_samples_leaf=1, min_samples_split=4, n_estimators=200;, score=0.966 total time=  37.6s\n",
      "[CV 3/5] END max_depth=20, min_samples_leaf=1, min_samples_split=4, n_estimators=200;, score=0.964 total time=  37.2s\n",
      "[CV 4/5] END max_depth=20, min_samples_leaf=1, min_samples_split=4, n_estimators=200;, score=0.964 total time=  36.9s\n",
      "[CV 5/5] END max_depth=20, min_samples_leaf=1, min_samples_split=4, n_estimators=200;, score=0.971 total time=  37.8s\n",
      "[CV 1/5] END max_depth=20, min_samples_leaf=1, min_samples_split=8, n_estimators=50;, score=0.963 total time=   9.7s\n",
      "[CV 2/5] END max_depth=20, min_samples_leaf=1, min_samples_split=8, n_estimators=50;, score=0.959 total time=   9.6s\n",
      "[CV 3/5] END max_depth=20, min_samples_leaf=1, min_samples_split=8, n_estimators=50;, score=0.961 total time=   9.8s\n",
      "[CV 4/5] END max_depth=20, min_samples_leaf=1, min_samples_split=8, n_estimators=50;, score=0.961 total time=   9.3s\n",
      "[CV 5/5] END max_depth=20, min_samples_leaf=1, min_samples_split=8, n_estimators=50;, score=0.967 total time=   9.3s\n",
      "[CV 1/5] END max_depth=20, min_samples_leaf=1, min_samples_split=8, n_estimators=100;, score=0.967 total time=  18.5s\n",
      "[CV 2/5] END max_depth=20, min_samples_leaf=1, min_samples_split=8, n_estimators=100;, score=0.963 total time=  18.6s\n",
      "[CV 3/5] END max_depth=20, min_samples_leaf=1, min_samples_split=8, n_estimators=100;, score=0.961 total time=  18.5s\n",
      "[CV 4/5] END max_depth=20, min_samples_leaf=1, min_samples_split=8, n_estimators=100;, score=0.961 total time=  18.4s\n",
      "[CV 5/5] END max_depth=20, min_samples_leaf=1, min_samples_split=8, n_estimators=100;, score=0.968 total time=  18.6s\n",
      "[CV 1/5] END max_depth=20, min_samples_leaf=1, min_samples_split=8, n_estimators=200;, score=0.966 total time=  37.0s\n",
      "[CV 2/5] END max_depth=20, min_samples_leaf=1, min_samples_split=8, n_estimators=200;, score=0.965 total time=  37.0s\n",
      "[CV 3/5] END max_depth=20, min_samples_leaf=1, min_samples_split=8, n_estimators=200;, score=0.964 total time=  38.4s\n",
      "[CV 4/5] END max_depth=20, min_samples_leaf=1, min_samples_split=8, n_estimators=200;, score=0.963 total time=  37.6s\n",
      "[CV 5/5] END max_depth=20, min_samples_leaf=1, min_samples_split=8, n_estimators=200;, score=0.969 total time=  36.7s\n",
      "[CV 1/5] END max_depth=20, min_samples_leaf=2, min_samples_split=2, n_estimators=50;, score=0.964 total time=   9.1s\n",
      "[CV 2/5] END max_depth=20, min_samples_leaf=2, min_samples_split=2, n_estimators=50;, score=0.960 total time=   9.0s\n",
      "[CV 3/5] END max_depth=20, min_samples_leaf=2, min_samples_split=2, n_estimators=50;, score=0.960 total time=   9.1s\n",
      "[CV 4/5] END max_depth=20, min_samples_leaf=2, min_samples_split=2, n_estimators=50;, score=0.957 total time=   9.1s\n",
      "[CV 5/5] END max_depth=20, min_samples_leaf=2, min_samples_split=2, n_estimators=50;, score=0.965 total time=   9.0s\n",
      "[CV 1/5] END max_depth=20, min_samples_leaf=2, min_samples_split=2, n_estimators=100;, score=0.965 total time=  18.1s\n",
      "[CV 2/5] END max_depth=20, min_samples_leaf=2, min_samples_split=2, n_estimators=100;, score=0.962 total time=  18.0s\n",
      "[CV 3/5] END max_depth=20, min_samples_leaf=2, min_samples_split=2, n_estimators=100;, score=0.962 total time=  18.0s\n",
      "[CV 4/5] END max_depth=20, min_samples_leaf=2, min_samples_split=2, n_estimators=100;, score=0.963 total time=  18.0s\n",
      "[CV 5/5] END max_depth=20, min_samples_leaf=2, min_samples_split=2, n_estimators=100;, score=0.967 total time=  18.1s\n",
      "[CV 1/5] END max_depth=20, min_samples_leaf=2, min_samples_split=2, n_estimators=200;, score=0.968 total time=  36.1s\n",
      "[CV 2/5] END max_depth=20, min_samples_leaf=2, min_samples_split=2, n_estimators=200;, score=0.964 total time=  36.0s\n",
      "[CV 3/5] END max_depth=20, min_samples_leaf=2, min_samples_split=2, n_estimators=200;, score=0.962 total time=  35.9s\n",
      "[CV 4/5] END max_depth=20, min_samples_leaf=2, min_samples_split=2, n_estimators=200;, score=0.963 total time=  35.8s\n",
      "[CV 5/5] END max_depth=20, min_samples_leaf=2, min_samples_split=2, n_estimators=200;, score=0.970 total time=  36.1s\n",
      "[CV 1/5] END max_depth=20, min_samples_leaf=2, min_samples_split=4, n_estimators=50;, score=0.965 total time=   9.2s\n",
      "[CV 2/5] END max_depth=20, min_samples_leaf=2, min_samples_split=4, n_estimators=50;, score=0.961 total time=   9.0s\n",
      "[CV 3/5] END max_depth=20, min_samples_leaf=2, min_samples_split=4, n_estimators=50;, score=0.960 total time=   9.0s\n",
      "[CV 4/5] END max_depth=20, min_samples_leaf=2, min_samples_split=4, n_estimators=50;, score=0.960 total time=   9.0s\n",
      "[CV 5/5] END max_depth=20, min_samples_leaf=2, min_samples_split=4, n_estimators=50;, score=0.968 total time=   9.1s\n",
      "[CV 1/5] END max_depth=20, min_samples_leaf=2, min_samples_split=4, n_estimators=100;, score=0.968 total time=  18.0s\n",
      "[CV 2/5] END max_depth=20, min_samples_leaf=2, min_samples_split=4, n_estimators=100;, score=0.964 total time=  18.0s\n",
      "[CV 3/5] END max_depth=20, min_samples_leaf=2, min_samples_split=4, n_estimators=100;, score=0.963 total time=  18.0s\n",
      "[CV 4/5] END max_depth=20, min_samples_leaf=2, min_samples_split=4, n_estimators=100;, score=0.958 total time=  17.9s\n",
      "[CV 5/5] END max_depth=20, min_samples_leaf=2, min_samples_split=4, n_estimators=100;, score=0.968 total time=  18.1s\n",
      "[CV 1/5] END max_depth=20, min_samples_leaf=2, min_samples_split=4, n_estimators=200;, score=0.968 total time=  36.9s\n",
      "[CV 2/5] END max_depth=20, min_samples_leaf=2, min_samples_split=4, n_estimators=200;, score=0.964 total time=  37.4s\n",
      "[CV 3/5] END max_depth=20, min_samples_leaf=2, min_samples_split=4, n_estimators=200;, score=0.963 total time=  36.8s\n",
      "[CV 4/5] END max_depth=20, min_samples_leaf=2, min_samples_split=4, n_estimators=200;, score=0.962 total time=  36.7s\n",
      "[CV 5/5] END max_depth=20, min_samples_leaf=2, min_samples_split=4, n_estimators=200;, score=0.970 total time=  37.2s\n",
      "[CV 1/5] END max_depth=20, min_samples_leaf=2, min_samples_split=8, n_estimators=50;, score=0.962 total time=   9.3s\n",
      "[CV 2/5] END max_depth=20, min_samples_leaf=2, min_samples_split=8, n_estimators=50;, score=0.960 total time=   9.1s\n",
      "[CV 3/5] END max_depth=20, min_samples_leaf=2, min_samples_split=8, n_estimators=50;, score=0.959 total time=   9.1s\n",
      "[CV 4/5] END max_depth=20, min_samples_leaf=2, min_samples_split=8, n_estimators=50;, score=0.956 total time=   9.1s\n",
      "[CV 5/5] END max_depth=20, min_samples_leaf=2, min_samples_split=8, n_estimators=50;, score=0.966 total time=   9.1s\n",
      "[CV 1/5] END max_depth=20, min_samples_leaf=2, min_samples_split=8, n_estimators=100;, score=0.963 total time=  18.2s\n",
      "[CV 2/5] END max_depth=20, min_samples_leaf=2, min_samples_split=8, n_estimators=100;, score=0.963 total time=  18.0s\n",
      "[CV 3/5] END max_depth=20, min_samples_leaf=2, min_samples_split=8, n_estimators=100;, score=0.960 total time=  18.2s\n",
      "[CV 4/5] END max_depth=20, min_samples_leaf=2, min_samples_split=8, n_estimators=100;, score=0.961 total time=  18.3s\n",
      "[CV 5/5] END max_depth=20, min_samples_leaf=2, min_samples_split=8, n_estimators=100;, score=0.967 total time=  18.2s\n",
      "[CV 1/5] END max_depth=20, min_samples_leaf=2, min_samples_split=8, n_estimators=200;, score=0.965 total time=  36.8s\n",
      "[CV 2/5] END max_depth=20, min_samples_leaf=2, min_samples_split=8, n_estimators=200;, score=0.963 total time=  36.5s\n",
      "[CV 3/5] END max_depth=20, min_samples_leaf=2, min_samples_split=8, n_estimators=200;, score=0.961 total time=  36.3s\n",
      "[CV 4/5] END max_depth=20, min_samples_leaf=2, min_samples_split=8, n_estimators=200;, score=0.963 total time=  36.7s\n",
      "[CV 5/5] END max_depth=20, min_samples_leaf=2, min_samples_split=8, n_estimators=200;, score=0.969 total time=  36.3s\n",
      "[CV 1/5] END max_depth=20, min_samples_leaf=4, min_samples_split=2, n_estimators=50;, score=0.962 total time=   8.8s\n",
      "[CV 2/5] END max_depth=20, min_samples_leaf=4, min_samples_split=2, n_estimators=50;, score=0.958 total time=   8.7s\n",
      "[CV 3/5] END max_depth=20, min_samples_leaf=4, min_samples_split=2, n_estimators=50;, score=0.957 total time=   8.7s\n",
      "[CV 4/5] END max_depth=20, min_samples_leaf=4, min_samples_split=2, n_estimators=50;, score=0.956 total time=   8.7s\n",
      "[CV 5/5] END max_depth=20, min_samples_leaf=4, min_samples_split=2, n_estimators=50;, score=0.964 total time=   8.7s\n",
      "[CV 1/5] END max_depth=20, min_samples_leaf=4, min_samples_split=2, n_estimators=100;, score=0.963 total time=  17.4s\n",
      "[CV 2/5] END max_depth=20, min_samples_leaf=4, min_samples_split=2, n_estimators=100;, score=0.959 total time=  17.7s\n",
      "[CV 3/5] END max_depth=20, min_samples_leaf=4, min_samples_split=2, n_estimators=100;, score=0.959 total time=  17.5s\n",
      "[CV 4/5] END max_depth=20, min_samples_leaf=4, min_samples_split=2, n_estimators=100;, score=0.959 total time=  17.8s\n",
      "[CV 5/5] END max_depth=20, min_samples_leaf=4, min_samples_split=2, n_estimators=100;, score=0.966 total time=  19.3s\n",
      "[CV 1/5] END max_depth=20, min_samples_leaf=4, min_samples_split=2, n_estimators=200;, score=0.966 total time=  35.8s\n",
      "[CV 2/5] END max_depth=20, min_samples_leaf=4, min_samples_split=2, n_estimators=200;, score=0.961 total time=  35.1s\n",
      "[CV 3/5] END max_depth=20, min_samples_leaf=4, min_samples_split=2, n_estimators=200;, score=0.960 total time=  35.6s\n",
      "[CV 4/5] END max_depth=20, min_samples_leaf=4, min_samples_split=2, n_estimators=200;, score=0.959 total time=  38.3s\n",
      "[CV 5/5] END max_depth=20, min_samples_leaf=4, min_samples_split=2, n_estimators=200;, score=0.968 total time=  35.9s\n",
      "[CV 1/5] END max_depth=20, min_samples_leaf=4, min_samples_split=4, n_estimators=50;, score=0.963 total time=   9.3s\n",
      "[CV 2/5] END max_depth=20, min_samples_leaf=4, min_samples_split=4, n_estimators=50;, score=0.959 total time=   9.3s\n",
      "[CV 3/5] END max_depth=20, min_samples_leaf=4, min_samples_split=4, n_estimators=50;, score=0.956 total time=   9.1s\n",
      "[CV 4/5] END max_depth=20, min_samples_leaf=4, min_samples_split=4, n_estimators=50;, score=0.956 total time=   8.9s\n",
      "[CV 5/5] END max_depth=20, min_samples_leaf=4, min_samples_split=4, n_estimators=50;, score=0.966 total time=   9.0s\n",
      "[CV 1/5] END max_depth=20, min_samples_leaf=4, min_samples_split=4, n_estimators=100;, score=0.962 total time=  17.6s\n",
      "[CV 2/5] END max_depth=20, min_samples_leaf=4, min_samples_split=4, n_estimators=100;, score=0.960 total time=  18.1s\n",
      "[CV 3/5] END max_depth=20, min_samples_leaf=4, min_samples_split=4, n_estimators=100;, score=0.957 total time=  18.0s\n",
      "[CV 4/5] END max_depth=20, min_samples_leaf=4, min_samples_split=4, n_estimators=100;, score=0.959 total time=  17.7s\n",
      "[CV 5/5] END max_depth=20, min_samples_leaf=4, min_samples_split=4, n_estimators=100;, score=0.966 total time=  17.4s\n",
      "[CV 1/5] END max_depth=20, min_samples_leaf=4, min_samples_split=4, n_estimators=200;, score=0.964 total time=  35.1s\n",
      "[CV 2/5] END max_depth=20, min_samples_leaf=4, min_samples_split=4, n_estimators=200;, score=0.960 total time=  35.2s\n",
      "[CV 3/5] END max_depth=20, min_samples_leaf=4, min_samples_split=4, n_estimators=200;, score=0.960 total time=  35.2s\n",
      "[CV 4/5] END max_depth=20, min_samples_leaf=4, min_samples_split=4, n_estimators=200;, score=0.959 total time=  35.4s\n",
      "[CV 5/5] END max_depth=20, min_samples_leaf=4, min_samples_split=4, n_estimators=200;, score=0.968 total time=  35.3s\n",
      "[CV 1/5] END max_depth=20, min_samples_leaf=4, min_samples_split=8, n_estimators=50;, score=0.961 total time=   9.4s\n",
      "[CV 2/5] END max_depth=20, min_samples_leaf=4, min_samples_split=8, n_estimators=50;, score=0.956 total time=   8.8s\n",
      "[CV 3/5] END max_depth=20, min_samples_leaf=4, min_samples_split=8, n_estimators=50;, score=0.956 total time=   8.6s\n",
      "[CV 4/5] END max_depth=20, min_samples_leaf=4, min_samples_split=8, n_estimators=50;, score=0.955 total time=   8.6s\n",
      "[CV 5/5] END max_depth=20, min_samples_leaf=4, min_samples_split=8, n_estimators=50;, score=0.966 total time=   8.6s\n",
      "[CV 1/5] END max_depth=20, min_samples_leaf=4, min_samples_split=8, n_estimators=100;, score=0.963 total time=  17.2s\n",
      "[CV 2/5] END max_depth=20, min_samples_leaf=4, min_samples_split=8, n_estimators=100;, score=0.960 total time=  17.1s\n",
      "[CV 3/5] END max_depth=20, min_samples_leaf=4, min_samples_split=8, n_estimators=100;, score=0.958 total time=  17.2s\n",
      "[CV 4/5] END max_depth=20, min_samples_leaf=4, min_samples_split=8, n_estimators=100;, score=0.958 total time=  17.1s\n",
      "[CV 5/5] END max_depth=20, min_samples_leaf=4, min_samples_split=8, n_estimators=100;, score=0.965 total time=  17.1s\n",
      "[CV 1/5] END max_depth=20, min_samples_leaf=4, min_samples_split=8, n_estimators=200;, score=0.964 total time=  34.4s\n",
      "[CV 2/5] END max_depth=20, min_samples_leaf=4, min_samples_split=8, n_estimators=200;, score=0.961 total time=  35.1s\n",
      "[CV 3/5] END max_depth=20, min_samples_leaf=4, min_samples_split=8, n_estimators=200;, score=0.959 total time=  34.8s\n",
      "[CV 4/5] END max_depth=20, min_samples_leaf=4, min_samples_split=8, n_estimators=200;, score=0.959 total time=  34.8s\n",
      "[CV 5/5] END max_depth=20, min_samples_leaf=4, min_samples_split=8, n_estimators=200;, score=0.966 total time=  34.9s\n"
     ]
    },
    {
     "data": {
      "text/html": [
       "<style>#sk-container-id-1 {color: black;background-color: white;}#sk-container-id-1 pre{padding: 0;}#sk-container-id-1 div.sk-toggleable {background-color: white;}#sk-container-id-1 label.sk-toggleable__label {cursor: pointer;display: block;width: 100%;margin-bottom: 0;padding: 0.3em;box-sizing: border-box;text-align: center;}#sk-container-id-1 label.sk-toggleable__label-arrow:before {content: \"▸\";float: left;margin-right: 0.25em;color: #696969;}#sk-container-id-1 label.sk-toggleable__label-arrow:hover:before {color: black;}#sk-container-id-1 div.sk-estimator:hover label.sk-toggleable__label-arrow:before {color: black;}#sk-container-id-1 div.sk-toggleable__content {max-height: 0;max-width: 0;overflow: hidden;text-align: left;background-color: #f0f8ff;}#sk-container-id-1 div.sk-toggleable__content pre {margin: 0.2em;color: black;border-radius: 0.25em;background-color: #f0f8ff;}#sk-container-id-1 input.sk-toggleable__control:checked~div.sk-toggleable__content {max-height: 200px;max-width: 100%;overflow: auto;}#sk-container-id-1 input.sk-toggleable__control:checked~label.sk-toggleable__label-arrow:before {content: \"▾\";}#sk-container-id-1 div.sk-estimator input.sk-toggleable__control:checked~label.sk-toggleable__label {background-color: #d4ebff;}#sk-container-id-1 div.sk-label input.sk-toggleable__control:checked~label.sk-toggleable__label {background-color: #d4ebff;}#sk-container-id-1 input.sk-hidden--visually {border: 0;clip: rect(1px 1px 1px 1px);clip: rect(1px, 1px, 1px, 1px);height: 1px;margin: -1px;overflow: hidden;padding: 0;position: absolute;width: 1px;}#sk-container-id-1 div.sk-estimator {font-family: monospace;background-color: #f0f8ff;border: 1px dotted black;border-radius: 0.25em;box-sizing: border-box;margin-bottom: 0.5em;}#sk-container-id-1 div.sk-estimator:hover {background-color: #d4ebff;}#sk-container-id-1 div.sk-parallel-item::after {content: \"\";width: 100%;border-bottom: 1px solid gray;flex-grow: 1;}#sk-container-id-1 div.sk-label:hover label.sk-toggleable__label {background-color: #d4ebff;}#sk-container-id-1 div.sk-serial::before {content: \"\";position: absolute;border-left: 1px solid gray;box-sizing: border-box;top: 0;bottom: 0;left: 50%;z-index: 0;}#sk-container-id-1 div.sk-serial {display: flex;flex-direction: column;align-items: center;background-color: white;padding-right: 0.2em;padding-left: 0.2em;position: relative;}#sk-container-id-1 div.sk-item {position: relative;z-index: 1;}#sk-container-id-1 div.sk-parallel {display: flex;align-items: stretch;justify-content: center;background-color: white;position: relative;}#sk-container-id-1 div.sk-item::before, #sk-container-id-1 div.sk-parallel-item::before {content: \"\";position: absolute;border-left: 1px solid gray;box-sizing: border-box;top: 0;bottom: 0;left: 50%;z-index: -1;}#sk-container-id-1 div.sk-parallel-item {display: flex;flex-direction: column;z-index: 1;position: relative;background-color: white;}#sk-container-id-1 div.sk-parallel-item:first-child::after {align-self: flex-end;width: 50%;}#sk-container-id-1 div.sk-parallel-item:last-child::after {align-self: flex-start;width: 50%;}#sk-container-id-1 div.sk-parallel-item:only-child::after {width: 0;}#sk-container-id-1 div.sk-dashed-wrapped {border: 1px dashed gray;margin: 0 0.4em 0.5em 0.4em;box-sizing: border-box;padding-bottom: 0.4em;background-color: white;}#sk-container-id-1 div.sk-label label {font-family: monospace;font-weight: bold;display: inline-block;line-height: 1.2em;}#sk-container-id-1 div.sk-label-container {text-align: center;}#sk-container-id-1 div.sk-container {/* jupyter's `normalize.less` sets `[hidden] { display: none; }` but bootstrap.min.css set `[hidden] { display: none !important; }` so we also need the `!important` here to be able to override the default hidden behavior on the sphinx rendered scikit-learn.org. See: https://github.com/scikit-learn/scikit-learn/issues/21755 */display: inline-block !important;position: relative;}#sk-container-id-1 div.sk-text-repr-fallback {display: none;}</style><div id=\"sk-container-id-1\" class=\"sk-top-container\"><div class=\"sk-text-repr-fallback\"><pre>GridSearchCV(estimator=RandomForestClassifier(),\n",
       "             param_grid={&#x27;max_depth&#x27;: [None, 10, 20],\n",
       "                         &#x27;min_samples_leaf&#x27;: [1, 2, 4],\n",
       "                         &#x27;min_samples_split&#x27;: [2, 4, 8],\n",
       "                         &#x27;n_estimators&#x27;: [50, 100, 200]},\n",
       "             verbose=5)</pre><b>In a Jupyter environment, please rerun this cell to show the HTML representation or trust the notebook. <br />On GitHub, the HTML representation is unable to render, please try loading this page with nbviewer.org.</b></div><div class=\"sk-container\" hidden><div class=\"sk-item sk-dashed-wrapped\"><div class=\"sk-label-container\"><div class=\"sk-label sk-toggleable\"><input class=\"sk-toggleable__control sk-hidden--visually\" id=\"sk-estimator-id-1\" type=\"checkbox\" ><label for=\"sk-estimator-id-1\" class=\"sk-toggleable__label sk-toggleable__label-arrow\">GridSearchCV</label><div class=\"sk-toggleable__content\"><pre>GridSearchCV(estimator=RandomForestClassifier(),\n",
       "             param_grid={&#x27;max_depth&#x27;: [None, 10, 20],\n",
       "                         &#x27;min_samples_leaf&#x27;: [1, 2, 4],\n",
       "                         &#x27;min_samples_split&#x27;: [2, 4, 8],\n",
       "                         &#x27;n_estimators&#x27;: [50, 100, 200]},\n",
       "             verbose=5)</pre></div></div></div><div class=\"sk-parallel\"><div class=\"sk-parallel-item\"><div class=\"sk-item\"><div class=\"sk-label-container\"><div class=\"sk-label sk-toggleable\"><input class=\"sk-toggleable__control sk-hidden--visually\" id=\"sk-estimator-id-2\" type=\"checkbox\" ><label for=\"sk-estimator-id-2\" class=\"sk-toggleable__label sk-toggleable__label-arrow\">estimator: RandomForestClassifier</label><div class=\"sk-toggleable__content\"><pre>RandomForestClassifier()</pre></div></div></div><div class=\"sk-serial\"><div class=\"sk-item\"><div class=\"sk-estimator sk-toggleable\"><input class=\"sk-toggleable__control sk-hidden--visually\" id=\"sk-estimator-id-3\" type=\"checkbox\" ><label for=\"sk-estimator-id-3\" class=\"sk-toggleable__label sk-toggleable__label-arrow\">RandomForestClassifier</label><div class=\"sk-toggleable__content\"><pre>RandomForestClassifier()</pre></div></div></div></div></div></div></div></div></div></div>"
      ],
      "text/plain": [
       "GridSearchCV(estimator=RandomForestClassifier(),\n",
       "             param_grid={'max_depth': [None, 10, 20],\n",
       "                         'min_samples_leaf': [1, 2, 4],\n",
       "                         'min_samples_split': [2, 4, 8],\n",
       "                         'n_estimators': [50, 100, 200]},\n",
       "             verbose=5)"
      ]
     },
     "execution_count": 11,
     "metadata": {},
     "output_type": "execute_result"
    }
   ],
   "source": [
    "rfc=RandomForestClassifier()\n",
    "\n",
    "# Hyperparameters for grid search\n",
    "rfc_grid = {'n_estimators': [50, 100, 200], \n",
    "            'max_depth': [None, 10, 20], \n",
    "            'min_samples_split': [2, 4, 8],\n",
    "            'min_samples_leaf': [1, 2, 4]}\n",
    "\n",
    "# Grid search to find best parameters\n",
    "rfc_grid = GridSearchCV(rfc, rfc_grid, verbose=5)\n",
    "\n",
    "# Train  model on training set\n",
    "rfc_grid.fit(x_train,y_train)\n"
   ]
  },
  {
   "cell_type": "code",
   "execution_count": 12,
   "metadata": {},
   "outputs": [
    {
     "data": {
      "text/plain": [
       "{'max_depth': None,\n",
       " 'min_samples_leaf': 1,\n",
       " 'min_samples_split': 2,\n",
       " 'n_estimators': 200}"
      ]
     },
     "execution_count": 12,
     "metadata": {},
     "output_type": "execute_result"
    }
   ],
   "source": [
    "# View the best parameters\n",
    "rfc_grid.best_params_"
   ]
  },
  {
   "cell_type": "code",
   "execution_count": 13,
   "metadata": {},
   "outputs": [],
   "source": [
    "# Predict the response for test dataset\n",
    "rfc_grid_pred = rfc_grid.predict(x_test)"
   ]
  },
  {
   "cell_type": "code",
   "execution_count": 14,
   "metadata": {},
   "outputs": [
    {
     "name": "stdout",
     "output_type": "stream",
     "text": [
      "Classification Report\n",
      "\n",
      "              precision    recall  f1-score   support\n",
      "\n",
      "           0       0.97      0.99      0.98       980\n",
      "           1       0.99      0.99      0.99      1135\n",
      "           2       0.96      0.97      0.96      1032\n",
      "           3       0.96      0.96      0.96      1010\n",
      "           4       0.97      0.98      0.97       982\n",
      "           5       0.98      0.96      0.97       892\n",
      "           6       0.97      0.98      0.98       958\n",
      "           7       0.97      0.96      0.97      1028\n",
      "           8       0.96      0.95      0.96       974\n",
      "           9       0.96      0.96      0.96      1009\n",
      "\n",
      "    accuracy                           0.97     10000\n",
      "   macro avg       0.97      0.97      0.97     10000\n",
      "weighted avg       0.97      0.97      0.97     10000\n",
      "\n",
      "Confusion Matrix:\n",
      "\n",
      "[[ 970    0    1    0    0    2    3    1    3    0]\n",
      " [   0 1123    1    4    0    1    3    0    2    1]\n",
      " [   6    0  996    7    4    0    3    9    7    0]\n",
      " [   0    0   10  974    0    6    0    8   10    2]\n",
      " [   1    0    1    0  959    0    5    1    2   13]\n",
      " [   3    1    0   11    3  859    6    3    5    1]\n",
      " [   7    3    0    0    3    4  938    0    3    0]\n",
      " [   1    2   20    1    2    0    0  988    2   12]\n",
      " [   4    0    7    8    5    6    4    4  928    8]\n",
      " [   5    5    3   11   11    1    1    4    4  964]]\n",
      "Random Forest Classifier Grid Accuracy: 0.9699\n"
     ]
    }
   ],
   "source": [
    "# Classification Report\n",
    "print (\"Classification Report\\n\")\n",
    "print(classification_report(y_test, rfc_grid_pred))\n",
    "\n",
    "# Confusion Matrix\n",
    "print (\"Confusion Matrix:\\n\")\n",
    "print(confusion_matrix(y_test, rfc_grid_pred))\n",
    "\n",
    "# Model Accuracy\n",
    "print(\"Random Forest Classifier Grid Accuracy:\", accuracy_score(y_test, rfc_grid_pred))"
   ]
  },
  {
   "attachments": {},
   "cell_type": "markdown",
   "metadata": {},
   "source": [
    "SVM Model"
   ]
  },
  {
   "cell_type": "code",
   "execution_count": 15,
   "metadata": {},
   "outputs": [],
   "source": [
    "# Building a Support Vector Machine on train data with linear kernel\n",
    "svc_linear = SVC(C=.1, kernel='linear', gamma=1)\n",
    "\n",
    "# Train model on training set\n",
    "svc_linear.fit(x_train, y_train)\n",
    "\n",
    "# Predict the response for test dataset\n",
    "y_pred = svc_linear.predict(x_test)"
   ]
  },
  {
   "cell_type": "code",
   "execution_count": 16,
   "metadata": {},
   "outputs": [
    {
     "name": "stdout",
     "output_type": "stream",
     "text": [
      "Classification Report\n",
      "\n",
      "              precision    recall  f1-score   support\n",
      "\n",
      "           0       0.96      0.99      0.97       980\n",
      "           1       0.98      0.99      0.98      1135\n",
      "           2       0.94      0.94      0.94      1032\n",
      "           3       0.91      0.94      0.93      1010\n",
      "           4       0.94      0.96      0.95       982\n",
      "           5       0.92      0.90      0.91       892\n",
      "           6       0.96      0.96      0.96       958\n",
      "           7       0.95      0.94      0.95      1028\n",
      "           8       0.94      0.91      0.92       974\n",
      "           9       0.96      0.92      0.94      1009\n",
      "\n",
      "    accuracy                           0.95     10000\n",
      "   macro avg       0.95      0.95      0.95     10000\n",
      "weighted avg       0.95      0.95      0.95     10000\n",
      "\n",
      "Confusion Matrix:\n",
      "\n",
      "[[ 967    0    2    1    1    6    1    1    1    0]\n",
      " [   0 1124    2    2    0    1    2    1    3    0]\n",
      " [   9    2  974   10    5    2    8    8   14    0]\n",
      " [   2    0   14  953    0   16    0   11   13    1]\n",
      " [   1    1    6    0  942    0    6    2    2   22]\n",
      " [   8    3    1   34    5  807   12    1   19    2]\n",
      " [   6    2    8    1    4   15  921    1    0    0]\n",
      " [   2    5   23    8    8    0    0  968    0   14]\n",
      " [   4    5    5   24    6   27    6    6  888    3]\n",
      " [   6    6    2   11   31    2    1   15    7  928]]\n",
      "SVM Base Model Accuracy: 0.9472\n"
     ]
    }
   ],
   "source": [
    "# Classification Report\n",
    "print (\"Classification Report\\n\")\n",
    "print(classification_report(y_test, y_pred))\n",
    "\n",
    "# Confusion Matrix\n",
    "print (\"Confusion Matrix:\\n\")\n",
    "print(confusion_matrix(y_test, y_pred))\n",
    "\n",
    "# Model Accuracy\n",
    "print(\"SVM Base Model Accuracy:\", accuracy_score(y_test, y_pred))"
   ]
  },
  {
   "cell_type": "code",
   "execution_count": 17,
   "metadata": {},
   "outputs": [],
   "source": [
    "# Building a Support Vector Machine on train data with rbf kernel\n",
    "svc_linear = SVC(C=.1, kernel='rbf', gamma=1)\n",
    "\n",
    "# Train model on training set\n",
    "svc_linear.fit(x_train, y_train)\n",
    "\n",
    "# Predict the response for test dataset\n",
    "y_pred = svc_linear.predict(x_test)"
   ]
  },
  {
   "cell_type": "code",
   "execution_count": 18,
   "metadata": {},
   "outputs": [
    {
     "name": "stdout",
     "output_type": "stream",
     "text": [
      "Classification Report\n",
      "\n",
      "              precision    recall  f1-score   support\n",
      "\n",
      "           0       0.00      0.00      0.00       980\n",
      "           1       0.11      1.00      0.20      1135\n",
      "           2       0.00      0.00      0.00      1032\n",
      "           3       0.00      0.00      0.00      1010\n",
      "           4       0.00      0.00      0.00       982\n",
      "           5       0.00      0.00      0.00       892\n",
      "           6       0.00      0.00      0.00       958\n",
      "           7       0.00      0.00      0.00      1028\n",
      "           8       0.00      0.00      0.00       974\n",
      "           9       0.00      0.00      0.00      1009\n",
      "\n",
      "    accuracy                           0.11     10000\n",
      "   macro avg       0.01      0.10      0.02     10000\n",
      "weighted avg       0.01      0.11      0.02     10000\n",
      "\n",
      "Confusion Matrix:\n",
      "\n",
      "[[   0  980    0    0    0    0    0    0    0    0]\n",
      " [   0 1135    0    0    0    0    0    0    0    0]\n",
      " [   0 1032    0    0    0    0    0    0    0    0]\n",
      " [   0 1010    0    0    0    0    0    0    0    0]\n",
      " [   0  982    0    0    0    0    0    0    0    0]\n",
      " [   0  892    0    0    0    0    0    0    0    0]\n",
      " [   0  958    0    0    0    0    0    0    0    0]\n",
      " [   0 1028    0    0    0    0    0    0    0    0]\n",
      " [   0  974    0    0    0    0    0    0    0    0]\n",
      " [   0 1009    0    0    0    0    0    0    0    0]]\n",
      "SVM Model Accuracy: 0.1135\n"
     ]
    },
    {
     "name": "stderr",
     "output_type": "stream",
     "text": [
      "/Users/selinanarain/opt/anaconda3/envs/myenv/lib/python3.10/site-packages/sklearn/metrics/_classification.py:1344: UndefinedMetricWarning: Precision and F-score are ill-defined and being set to 0.0 in labels with no predicted samples. Use `zero_division` parameter to control this behavior.\n",
      "  _warn_prf(average, modifier, msg_start, len(result))\n",
      "/Users/selinanarain/opt/anaconda3/envs/myenv/lib/python3.10/site-packages/sklearn/metrics/_classification.py:1344: UndefinedMetricWarning: Precision and F-score are ill-defined and being set to 0.0 in labels with no predicted samples. Use `zero_division` parameter to control this behavior.\n",
      "  _warn_prf(average, modifier, msg_start, len(result))\n",
      "/Users/selinanarain/opt/anaconda3/envs/myenv/lib/python3.10/site-packages/sklearn/metrics/_classification.py:1344: UndefinedMetricWarning: Precision and F-score are ill-defined and being set to 0.0 in labels with no predicted samples. Use `zero_division` parameter to control this behavior.\n",
      "  _warn_prf(average, modifier, msg_start, len(result))\n"
     ]
    }
   ],
   "source": [
    "# Classification Report\n",
    "print (\"Classification Report\\n\")\n",
    "print(classification_report(y_test, y_pred))\n",
    "\n",
    "# Confusion Matrix\n",
    "print (\"Confusion Matrix:\\n\")\n",
    "print(confusion_matrix(y_test, y_pred))\n",
    "\n",
    "# Model Accuracy\n",
    "print(\"SVM Model Accuracy:\", accuracy_score(y_test, y_pred))"
   ]
  },
  {
   "attachments": {},
   "cell_type": "markdown",
   "metadata": {},
   "source": [
    "SVM GridSearchCV"
   ]
  },
  {
   "cell_type": "code",
   "execution_count": 19,
   "metadata": {},
   "outputs": [],
   "source": [
    "svc = SVC()"
   ]
  },
  {
   "cell_type": "code",
   "execution_count": 20,
   "metadata": {},
   "outputs": [
    {
     "name": "stdout",
     "output_type": "stream",
     "text": [
      "Fitting 5 folds for each of 8 candidates, totalling 40 fits\n",
      "[CV 1/5] END ..............C=0.1, kernel=linear;, score=0.946 total time= 2.2min\n",
      "[CV 2/5] END ..............C=0.1, kernel=linear;, score=0.939 total time= 2.1min\n",
      "[CV 3/5] END ..............C=0.1, kernel=linear;, score=0.939 total time= 2.1min\n",
      "[CV 4/5] END ..............C=0.1, kernel=linear;, score=0.936 total time= 2.1min\n",
      "[CV 5/5] END ..............C=0.1, kernel=linear;, score=0.945 total time= 2.2min\n",
      "[CV 1/5] END .................C=0.1, kernel=rbf;, score=0.957 total time= 6.4min\n",
      "[CV 2/5] END .................C=0.1, kernel=rbf;, score=0.954 total time= 6.5min\n",
      "[CV 3/5] END .................C=0.1, kernel=rbf;, score=0.951 total time= 6.2min\n",
      "[CV 4/5] END .................C=0.1, kernel=rbf;, score=0.952 total time= 6.2min\n",
      "[CV 5/5] END .................C=0.1, kernel=rbf;, score=0.959 total time= 6.3min\n",
      "[CV 1/5] END ................C=1, kernel=linear;, score=0.938 total time= 2.6min\n",
      "[CV 2/5] END ................C=1, kernel=linear;, score=0.929 total time= 2.5min\n",
      "[CV 3/5] END ................C=1, kernel=linear;, score=0.932 total time= 2.4min\n",
      "[CV 4/5] END ................C=1, kernel=linear;, score=0.929 total time= 2.5min\n",
      "[CV 5/5] END ................C=1, kernel=linear;, score=0.939 total time= 2.6min\n",
      "[CV 1/5] END ...................C=1, kernel=rbf;, score=0.979 total time= 3.1min\n",
      "[CV 2/5] END ...................C=1, kernel=rbf;, score=0.976 total time= 3.1min\n",
      "[CV 3/5] END ...................C=1, kernel=rbf;, score=0.976 total time= 3.1min\n",
      "[CV 4/5] END ...................C=1, kernel=rbf;, score=0.974 total time= 3.1min\n",
      "[CV 5/5] END ...................C=1, kernel=rbf;, score=0.979 total time= 3.1min\n",
      "[CV 1/5] END ...............C=10, kernel=linear;, score=0.928 total time= 3.6min\n",
      "[CV 2/5] END ...............C=10, kernel=linear;, score=0.917 total time= 3.5min\n",
      "[CV 3/5] END ...............C=10, kernel=linear;, score=0.921 total time= 3.5min\n",
      "[CV 4/5] END ...............C=10, kernel=linear;, score=0.919 total time= 3.5min\n",
      "[CV 5/5] END ...............C=10, kernel=linear;, score=0.926 total time= 3.5min\n",
      "[CV 1/5] END ..................C=10, kernel=rbf;, score=0.985 total time= 2.8min\n",
      "[CV 2/5] END ..................C=10, kernel=rbf;, score=0.983 total time= 2.8min\n",
      "[CV 3/5] END ..................C=10, kernel=rbf;, score=0.980 total time= 2.8min\n",
      "[CV 4/5] END ..................C=10, kernel=rbf;, score=0.979 total time= 2.8min\n",
      "[CV 5/5] END ..................C=10, kernel=rbf;, score=0.984 total time= 2.9min\n",
      "[CV 1/5] END ..............C=100, kernel=linear;, score=0.922 total time=11.1min\n",
      "[CV 2/5] END ..............C=100, kernel=linear;, score=0.912 total time=24.1min\n",
      "[CV 3/5] END ..............C=100, kernel=linear;, score=0.917 total time=21.3min\n",
      "[CV 4/5] END ..............C=100, kernel=linear;, score=0.916 total time=13.2min\n",
      "[CV 5/5] END ..............C=100, kernel=linear;, score=0.922 total time=15.5min\n",
      "[CV 1/5] END .................C=100, kernel=rbf;, score=0.985 total time= 4.0min\n",
      "[CV 2/5] END .................C=100, kernel=rbf;, score=0.982 total time= 3.8min\n",
      "[CV 3/5] END .................C=100, kernel=rbf;, score=0.980 total time= 4.3min\n",
      "[CV 4/5] END .................C=100, kernel=rbf;, score=0.979 total time= 4.5min\n",
      "[CV 5/5] END .................C=100, kernel=rbf;, score=0.984 total time=20.4min\n"
     ]
    },
    {
     "data": {
      "text/html": [
       "<style>#sk-container-id-2 {color: black;background-color: white;}#sk-container-id-2 pre{padding: 0;}#sk-container-id-2 div.sk-toggleable {background-color: white;}#sk-container-id-2 label.sk-toggleable__label {cursor: pointer;display: block;width: 100%;margin-bottom: 0;padding: 0.3em;box-sizing: border-box;text-align: center;}#sk-container-id-2 label.sk-toggleable__label-arrow:before {content: \"▸\";float: left;margin-right: 0.25em;color: #696969;}#sk-container-id-2 label.sk-toggleable__label-arrow:hover:before {color: black;}#sk-container-id-2 div.sk-estimator:hover label.sk-toggleable__label-arrow:before {color: black;}#sk-container-id-2 div.sk-toggleable__content {max-height: 0;max-width: 0;overflow: hidden;text-align: left;background-color: #f0f8ff;}#sk-container-id-2 div.sk-toggleable__content pre {margin: 0.2em;color: black;border-radius: 0.25em;background-color: #f0f8ff;}#sk-container-id-2 input.sk-toggleable__control:checked~div.sk-toggleable__content {max-height: 200px;max-width: 100%;overflow: auto;}#sk-container-id-2 input.sk-toggleable__control:checked~label.sk-toggleable__label-arrow:before {content: \"▾\";}#sk-container-id-2 div.sk-estimator input.sk-toggleable__control:checked~label.sk-toggleable__label {background-color: #d4ebff;}#sk-container-id-2 div.sk-label input.sk-toggleable__control:checked~label.sk-toggleable__label {background-color: #d4ebff;}#sk-container-id-2 input.sk-hidden--visually {border: 0;clip: rect(1px 1px 1px 1px);clip: rect(1px, 1px, 1px, 1px);height: 1px;margin: -1px;overflow: hidden;padding: 0;position: absolute;width: 1px;}#sk-container-id-2 div.sk-estimator {font-family: monospace;background-color: #f0f8ff;border: 1px dotted black;border-radius: 0.25em;box-sizing: border-box;margin-bottom: 0.5em;}#sk-container-id-2 div.sk-estimator:hover {background-color: #d4ebff;}#sk-container-id-2 div.sk-parallel-item::after {content: \"\";width: 100%;border-bottom: 1px solid gray;flex-grow: 1;}#sk-container-id-2 div.sk-label:hover label.sk-toggleable__label {background-color: #d4ebff;}#sk-container-id-2 div.sk-serial::before {content: \"\";position: absolute;border-left: 1px solid gray;box-sizing: border-box;top: 0;bottom: 0;left: 50%;z-index: 0;}#sk-container-id-2 div.sk-serial {display: flex;flex-direction: column;align-items: center;background-color: white;padding-right: 0.2em;padding-left: 0.2em;position: relative;}#sk-container-id-2 div.sk-item {position: relative;z-index: 1;}#sk-container-id-2 div.sk-parallel {display: flex;align-items: stretch;justify-content: center;background-color: white;position: relative;}#sk-container-id-2 div.sk-item::before, #sk-container-id-2 div.sk-parallel-item::before {content: \"\";position: absolute;border-left: 1px solid gray;box-sizing: border-box;top: 0;bottom: 0;left: 50%;z-index: -1;}#sk-container-id-2 div.sk-parallel-item {display: flex;flex-direction: column;z-index: 1;position: relative;background-color: white;}#sk-container-id-2 div.sk-parallel-item:first-child::after {align-self: flex-end;width: 50%;}#sk-container-id-2 div.sk-parallel-item:last-child::after {align-self: flex-start;width: 50%;}#sk-container-id-2 div.sk-parallel-item:only-child::after {width: 0;}#sk-container-id-2 div.sk-dashed-wrapped {border: 1px dashed gray;margin: 0 0.4em 0.5em 0.4em;box-sizing: border-box;padding-bottom: 0.4em;background-color: white;}#sk-container-id-2 div.sk-label label {font-family: monospace;font-weight: bold;display: inline-block;line-height: 1.2em;}#sk-container-id-2 div.sk-label-container {text-align: center;}#sk-container-id-2 div.sk-container {/* jupyter's `normalize.less` sets `[hidden] { display: none; }` but bootstrap.min.css set `[hidden] { display: none !important; }` so we also need the `!important` here to be able to override the default hidden behavior on the sphinx rendered scikit-learn.org. See: https://github.com/scikit-learn/scikit-learn/issues/21755 */display: inline-block !important;position: relative;}#sk-container-id-2 div.sk-text-repr-fallback {display: none;}</style><div id=\"sk-container-id-2\" class=\"sk-top-container\"><div class=\"sk-text-repr-fallback\"><pre>GridSearchCV(estimator=SVC(),\n",
       "             param_grid={&#x27;C&#x27;: [0.1, 1, 10, 100], &#x27;kernel&#x27;: [&#x27;linear&#x27;, &#x27;rbf&#x27;]},\n",
       "             verbose=3)</pre><b>In a Jupyter environment, please rerun this cell to show the HTML representation or trust the notebook. <br />On GitHub, the HTML representation is unable to render, please try loading this page with nbviewer.org.</b></div><div class=\"sk-container\" hidden><div class=\"sk-item sk-dashed-wrapped\"><div class=\"sk-label-container\"><div class=\"sk-label sk-toggleable\"><input class=\"sk-toggleable__control sk-hidden--visually\" id=\"sk-estimator-id-4\" type=\"checkbox\" ><label for=\"sk-estimator-id-4\" class=\"sk-toggleable__label sk-toggleable__label-arrow\">GridSearchCV</label><div class=\"sk-toggleable__content\"><pre>GridSearchCV(estimator=SVC(),\n",
       "             param_grid={&#x27;C&#x27;: [0.1, 1, 10, 100], &#x27;kernel&#x27;: [&#x27;linear&#x27;, &#x27;rbf&#x27;]},\n",
       "             verbose=3)</pre></div></div></div><div class=\"sk-parallel\"><div class=\"sk-parallel-item\"><div class=\"sk-item\"><div class=\"sk-label-container\"><div class=\"sk-label sk-toggleable\"><input class=\"sk-toggleable__control sk-hidden--visually\" id=\"sk-estimator-id-5\" type=\"checkbox\" ><label for=\"sk-estimator-id-5\" class=\"sk-toggleable__label sk-toggleable__label-arrow\">estimator: SVC</label><div class=\"sk-toggleable__content\"><pre>SVC()</pre></div></div></div><div class=\"sk-serial\"><div class=\"sk-item\"><div class=\"sk-estimator sk-toggleable\"><input class=\"sk-toggleable__control sk-hidden--visually\" id=\"sk-estimator-id-6\" type=\"checkbox\" ><label for=\"sk-estimator-id-6\" class=\"sk-toggleable__label sk-toggleable__label-arrow\">SVC</label><div class=\"sk-toggleable__content\"><pre>SVC()</pre></div></div></div></div></div></div></div></div></div></div>"
      ],
      "text/plain": [
       "GridSearchCV(estimator=SVC(),\n",
       "             param_grid={'C': [0.1, 1, 10, 100], 'kernel': ['linear', 'rbf']},\n",
       "             verbose=3)"
      ]
     },
     "execution_count": 20,
     "metadata": {},
     "output_type": "execute_result"
    }
   ],
   "source": [
    "# Hyperparameters for grid search\n",
    "svc_grid = {'C': [0.1, 1, 10, 100],\n",
    "            'kernel': ['linear', 'rbf']} \n",
    "\n",
    "# Grid search to find best parameters \n",
    "svc_grid = GridSearchCV(svc, svc_grid, refit = True, verbose = 3)\n",
    "  \n",
    "# Train the model for grid search\n",
    "svc_grid.fit(x_train, y_train)"
   ]
  },
  {
   "cell_type": "code",
   "execution_count": 21,
   "metadata": {},
   "outputs": [
    {
     "name": "stdout",
     "output_type": "stream",
     "text": [
      "{'C': 10, 'kernel': 'rbf'}\n",
      "SVC(C=10)\n"
     ]
    }
   ],
   "source": [
    "# View the best parameters\n",
    "print(svc_grid.best_params_)\n",
    "  \n",
    "print(svc_grid.best_estimator_)"
   ]
  },
  {
   "cell_type": "code",
   "execution_count": 22,
   "metadata": {},
   "outputs": [],
   "source": [
    "# Predict the response for test dataset\n",
    "svc_grid_pred = svc_grid.predict(x_test)"
   ]
  },
  {
   "cell_type": "code",
   "execution_count": 23,
   "metadata": {},
   "outputs": [
    {
     "name": "stdout",
     "output_type": "stream",
     "text": [
      "Classification Report\n",
      "\n",
      "              precision    recall  f1-score   support\n",
      "\n",
      "           0       0.98      0.99      0.99       980\n",
      "           1       0.99      0.99      0.99      1135\n",
      "           2       0.98      0.98      0.98      1032\n",
      "           3       0.98      0.99      0.98      1010\n",
      "           4       0.98      0.98      0.98       982\n",
      "           5       0.99      0.98      0.98       892\n",
      "           6       0.99      0.99      0.99       958\n",
      "           7       0.98      0.98      0.98      1028\n",
      "           8       0.98      0.98      0.98       974\n",
      "           9       0.98      0.97      0.97      1009\n",
      "\n",
      "    accuracy                           0.98     10000\n",
      "   macro avg       0.98      0.98      0.98     10000\n",
      "weighted avg       0.98      0.98      0.98     10000\n",
      "\n",
      "Confusion Matrix:\n",
      "\n",
      "[[ 973    0    2    0    0    2    0    1    2    0]\n",
      " [   0 1129    2    1    0    1    0    1    1    0]\n",
      " [   5    1 1014    0    1    0    1    6    4    0]\n",
      " [   0    0    2  996    0    2    0    3    4    3]\n",
      " [   0    0    4    0  966    0    2    0    0   10]\n",
      " [   2    0    0    8    1  873    3    0    3    2]\n",
      " [   5    2    0    0    2    3  945    0    1    0]\n",
      " [   0    3    9    2    1    0    0 1007    0    6]\n",
      " [   3    0    2    4    3    1    1    2  954    4]\n",
      " [   1    3    0    7    9    3    1    5    0  980]]\n",
      "SVM Grid Model Accuracy: 0.9837\n"
     ]
    }
   ],
   "source": [
    "# Classification Report\n",
    "print (\"Classification Report\\n\")\n",
    "print(classification_report(y_test, svc_grid_pred))\n",
    "\n",
    "# Confusion Matrix\n",
    "print (\"Confusion Matrix:\\n\")\n",
    "print(confusion_matrix(y_test, svc_grid_pred))\n",
    "\n",
    "# Model Accuracy\n",
    "print(\"SVM Grid Model Accuracy:\", accuracy_score(y_test, svc_grid_pred))"
   ]
  },
  {
   "attachments": {},
   "cell_type": "markdown",
   "metadata": {},
   "source": [
    "### Which model performed the best for this problem?"
   ]
  },
  {
   "attachments": {},
   "cell_type": "markdown",
   "metadata": {},
   "source": [
    "The first model I completed was the random forest classsifier with n_estimators=100 which performed at around 97% accuracy. Then, once doing a grid search with random forest classifier, we can see that the best parameters for the random foresst classifier was: 'max_depth': None, 'min_samples_leaf': 1, 'min_samples_split': 2, and 'n_estimators': 200 which produced an accuracy of around 97% as well. I also did another model which is an SVC model. As base models, I did the 'linear' and kernel which produced about a 95% accuracy. I also did grid search on the SVC model which gave the best parameters as 'C': 10 and 'kernel': 'rbf', giving an accuracy of 98% -- which is the model that performed best. "
   ]
  },
  {
   "cell_type": "markdown",
   "metadata": {},
   "source": []
  }
 ],
 "metadata": {
  "kernelspec": {
   "display_name": "myenv",
   "language": "python",
   "name": "python3"
  },
  "language_info": {
   "codemirror_mode": {
    "name": "ipython",
    "version": 3
   },
   "file_extension": ".py",
   "mimetype": "text/x-python",
   "name": "python",
   "nbconvert_exporter": "python",
   "pygments_lexer": "ipython3",
   "version": "3.10.9"
  },
  "orig_nbformat": 4
 },
 "nbformat": 4,
 "nbformat_minor": 2
}
